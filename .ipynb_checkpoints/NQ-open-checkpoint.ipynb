{
 "cells": [
  {
   "cell_type": "code",
   "execution_count": 14,
   "metadata": {
    "ExecuteTime": {
     "end_time": "2021-11-05T08:09:32.699136Z",
     "start_time": "2021-11-05T08:09:32.690231Z"
    }
   },
   "outputs": [],
   "source": [
    "import numpy as np\n",
    "from haystack.modeling.evaluation.squad_evaluation import compute_f1\n",
    "import pandas as pd\n",
    "from scipy import stats\n",
    "# advanced spearmanr when f1 scores are all 0\n",
    "from scipy.stats.mstats import spearmanr, kendalltau\n",
    "\n",
    "from collections import defaultdict\n",
    "\n",
    "from transformers import AutoConfig\n",
    "\n",
    "import seaborn\n",
    "\n",
    "from matplotlib import pyplot\n",
    "from matplotlib.ticker import MaxNLocator"
   ]
  },
  {
   "cell_type": "code",
   "execution_count": 2,
   "metadata": {
    "ExecuteTime": {
     "end_time": "2021-11-03T10:46:37.146806Z",
     "start_time": "2021-11-03T10:46:37.138747Z"
    }
   },
   "outputs": [],
   "source": [
    "import warnings\n",
    "warnings.simplefilter(\"ignore\")"
   ]
  },
  {
   "cell_type": "code",
   "execution_count": 20,
   "metadata": {
    "ExecuteTime": {
     "end_time": "2021-11-05T08:16:19.763940Z",
     "start_time": "2021-11-05T08:16:19.749896Z"
    }
   },
   "outputs": [],
   "source": [
    "from cycler import cycler\n",
    "# pyplot.rcParams['axes.prop_cycle'] = cycler(color='bgrcmyk')\n",
    "pyplot.rcParams['axes.prop_cycle'] = cycler(\n",
    "    color=[pyplot.cm.Paired(i) for i in np.linspace(0, 1, 6)])"
   ]
  },
  {
   "cell_type": "code",
   "execution_count": 21,
   "metadata": {
    "ExecuteTime": {
     "end_time": "2021-11-05T08:16:24.318690Z",
     "start_time": "2021-11-05T08:16:24.311539Z"
    }
   },
   "outputs": [],
   "source": [
    "def add_gridlines_remove_spines():\n",
    "    ''' Prettify matplotlib plots by adding grid lines and removing right and top spines. '''\n",
    "    axes = pyplot.gcf().get_axes()\n",
    "    for axis in axes:\n",
    "        axis.set_axisbelow(True)\n",
    "        axis.grid(b=True, which='major', color='#666666', linestyle='-', alpha=0.6)\n",
    "        axis.minorticks_on()\n",
    "        axis.grid(b=True, which='minor', color='#999999', linestyle='-', alpha=0.2)\n",
    "    seaborn.despine()"
   ]
  },
  {
   "cell_type": "code",
   "execution_count": 3,
   "metadata": {
    "ExecuteTime": {
     "end_time": "2021-11-03T10:46:38.825886Z",
     "start_time": "2021-11-03T10:46:38.818388Z"
    }
   },
   "outputs": [],
   "source": [
    "DATA_PATH = 'data/table'"
   ]
  },
  {
   "cell_type": "code",
   "execution_count": 4,
   "metadata": {
    "ExecuteTime": {
     "end_time": "2021-11-03T10:46:39.707781Z",
     "start_time": "2021-11-03T10:46:39.700272Z"
    }
   },
   "outputs": [],
   "source": [
    "pd.options.display.float_format = '{:,.3f}'.format"
   ]
  },
  {
   "cell_type": "code",
   "execution_count": 2,
   "metadata": {
    "ExecuteTime": {
     "end_time": "2021-11-02T17:01:49.558543Z",
     "start_time": "2021-11-02T17:01:49.405709Z"
    }
   },
   "outputs": [
    {
     "name": "stdout",
     "output_type": "stream",
     "text": [
      "\u001b[34m__MACOSX\u001b[m\u001b[m \u001b[34mdata\u001b[m\u001b[m     \u001b[34merrors\u001b[m\u001b[m   \u001b[34mimages\u001b[m\u001b[m   \u001b[34mold\u001b[m\u001b[m      \u001b[34mtable\u001b[m\u001b[m\r\n"
     ]
    }
   ],
   "source": [
    "!ls semantic-answer-similarity/data/"
   ]
  },
  {
   "cell_type": "code",
   "execution_count": 5,
   "metadata": {
    "ExecuteTime": {
     "end_time": "2021-11-03T10:46:43.465051Z",
     "start_time": "2021-11-03T10:46:43.403123Z"
    }
   },
   "outputs": [],
   "source": [
    "german_quad = pd.read_csv(f'{DATA_PATH}/german_quad_table_results.csv', index_col=0)\n",
    "nq_open = pd.read_csv(f'{DATA_PATH}/nq_open_table_results.csv', index_col=0)\n",
    "nq_open.drop_duplicates(inplace=True)\n",
    "squad = pd.read_csv(f'{DATA_PATH}/squad_table_results.csv', index_col=0)"
   ]
  },
  {
   "cell_type": "code",
   "execution_count": 6,
   "metadata": {
    "ExecuteTime": {
     "end_time": "2021-11-03T10:46:45.020016Z",
     "start_time": "2021-11-03T10:46:45.013504Z"
    }
   },
   "outputs": [],
   "source": [
    "METRICS_OF_INTEREST = ['bleu', 'rouge_L', 'meteor', 'f1', 'bi_encoder', 'bertvanilla', 'berttrained', 'sas']"
   ]
  },
  {
   "cell_type": "markdown",
   "metadata": {},
   "source": [
    "## Error analysis: NQ-open"
   ]
  },
  {
   "cell_type": "code",
   "execution_count": 7,
   "metadata": {
    "ExecuteTime": {
     "end_time": "2021-10-26T17:26:27.469149Z",
     "start_time": "2021-10-26T17:26:27.461045Z"
    }
   },
   "outputs": [],
   "source": [
    "issues_identified = [\n",
    "    'Context awareness', 'Translations', 'Acronyms', 'Chemicals/terminology',\n",
    "    'Historical events', 'Conversions', 'Encodings', 'Names', 'Numbers',\n",
    "    'Dates'\n",
    "]"
   ]
  },
  {
   "cell_type": "code",
   "execution_count": 8,
   "metadata": {
    "ExecuteTime": {
     "end_time": "2021-11-02T22:51:00.163522Z",
     "start_time": "2021-11-02T22:51:00.154600Z"
    }
   },
   "outputs": [],
   "source": [
    "def quarter(dataset):\n",
    "    display(dataset[(dataset.sas < .25) & (dataset.label==2)])"
   ]
  },
  {
   "cell_type": "code",
   "execution_count": 9,
   "metadata": {
    "ExecuteTime": {
     "end_time": "2021-11-03T10:46:05.351402Z",
     "start_time": "2021-11-03T10:46:05.344671Z"
    }
   },
   "outputs": [],
   "source": [
    "def potential_mislabels(dataset):\n",
    "    return dataset[(dataset.sas > .5) & (dataset.label == 0)]"
   ]
  },
  {
   "cell_type": "code",
   "execution_count": 9,
   "metadata": {
    "ExecuteTime": {
     "end_time": "2021-11-03T10:46:06.610708Z",
     "start_time": "2021-11-03T10:46:05.943940Z"
    },
    "scrolled": true
   },
   "outputs": [],
   "source": [
    "correct_nq_open = pd.read_json(\n",
    "    'https://raw.githubusercontent.com/google-research-datasets/natural-questions/master/nq_open/NQ-open.efficientqa.test.1.1.jsonl',\n",
    "    lines=True)\n",
    "\n",
    "correct_nq_open['length'] = list(map(len, correct_nq_open.answer))\n",
    "uniquely_answered_df = correct_nq_open[correct_nq_open.length == 1]\n",
    "uniquely_answered_df['answer'] = uniquely_answered_df.apply(\n",
    "    lambda x: x.answer[0], axis=1)\n",
    "merged = pd.merge(\n",
    "    uniquely_answered_df.drop_duplicates('answer')[['question', 'answer']],\n",
    "    nq_open,\n",
    "    left_on='answer',\n",
    "    right_on='answer1')\n",
    "\n",
    "nq_open_aug = merged.drop_duplicates().drop('answer', axis=1)"
   ]
  },
  {
   "cell_type": "code",
   "execution_count": 10,
   "metadata": {
    "ExecuteTime": {
     "end_time": "2021-11-03T10:46:10.333033Z",
     "start_time": "2021-11-03T10:46:10.324559Z"
    }
   },
   "outputs": [],
   "source": [
    "del merged"
   ]
  },
  {
   "cell_type": "code",
   "execution_count": 13,
   "metadata": {
    "ExecuteTime": {
     "end_time": "2021-11-02T17:17:05.578571Z",
     "start_time": "2021-11-02T17:17:05.557198Z"
    }
   },
   "outputs": [],
   "source": [
    "nq_open_aug.loc[:, 'answer_encoded_twice'] = [\n",
    "    string.encode('utf8').decode('unicode-escape').encode('utf8').decode('unicode-escape')\n",
    "    for string in nq_open_aug.answer2\n",
    "]"
   ]
  },
  {
   "cell_type": "markdown",
   "metadata": {},
   "source": [
    "## More encoding shenanigans"
   ]
  },
  {
   "cell_type": "code",
   "execution_count": 32,
   "metadata": {
    "ExecuteTime": {
     "end_time": "2021-11-05T08:38:32.769554Z",
     "start_time": "2021-11-05T08:38:32.757714Z"
    }
   },
   "outputs": [],
   "source": [
    "TO_BE_EXCLUDED = [\n",
    "    'Wrong gold label', 'Imprecise question', 'Multiple correct answers'\n",
    "]"
   ]
  },
  {
   "cell_type": "code",
   "execution_count": 9,
   "metadata": {
    "ExecuteTime": {
     "end_time": "2021-11-03T10:49:41.068479Z",
     "start_time": "2021-11-03T10:49:41.060589Z"
    }
   },
   "outputs": [],
   "source": [
    "import unicodedata"
   ]
  },
  {
   "cell_type": "code",
   "execution_count": 16,
   "metadata": {
    "ExecuteTime": {
     "end_time": "2021-11-05T08:15:42.461794Z",
     "start_time": "2021-11-05T08:15:42.415278Z"
    }
   },
   "outputs": [],
   "source": [
    "nq_open_aug = pd.read_csv(\n",
    "    'data/errors/nq_open_corrected_and_augmented_relabelled.csv',\n",
    "    index_col=0)"
   ]
  },
  {
   "cell_type": "code",
   "execution_count": 12,
   "metadata": {
    "ExecuteTime": {
     "end_time": "2021-11-03T10:50:31.363805Z",
     "start_time": "2021-11-03T10:50:31.278702Z"
    }
   },
   "outputs": [],
   "source": [
    "nq_open_aug['answer1'] = nq_open_aug.apply(lambda x: unicodedata.normalize(\"NFKD\", x['answer1']), axis=1)"
   ]
  },
  {
   "cell_type": "code",
   "execution_count": 21,
   "metadata": {
    "ExecuteTime": {
     "end_time": "2021-11-03T10:53:12.815100Z",
     "start_time": "2021-11-03T10:53:12.717349Z"
    }
   },
   "outputs": [],
   "source": [
    "nq_open_aug['answer1'] = [\n",
    "    string.replace('A' + '̂' + ' ', \" \").replace('–', '-').replace('\\xad', '')\n",
    "    for string in nq_open_aug.answer1\n",
    "]"
   ]
  },
  {
   "cell_type": "code",
   "execution_count": 28,
   "metadata": {
    "ExecuteTime": {
     "end_time": "2021-11-03T10:59:16.111945Z",
     "start_time": "2021-11-03T10:59:16.029783Z"
    }
   },
   "outputs": [],
   "source": [
    "# nq_open_aug.to_csv('semantic-answer-similarity/data/errors/nq_open_corrected_and_augmented_relabelled.csv')"
   ]
  },
  {
   "cell_type": "code",
   "execution_count": 30,
   "metadata": {
    "ExecuteTime": {
     "end_time": "2021-11-03T10:59:25.035006Z",
     "start_time": "2021-11-03T10:59:25.026961Z"
    }
   },
   "outputs": [],
   "source": [
    "non_ascii = []\n",
    "for i in nq_open_aug.answer1:\n",
    "    if not i.isascii():\n",
    "        non_ascii.append(i)"
   ]
  },
  {
   "cell_type": "code",
   "execution_count": 260,
   "metadata": {},
   "outputs": [
    {
     "data": {
      "text/html": [
       "<div>\n",
       "<style scoped>\n",
       "    .dataframe tbody tr th:only-of-type {\n",
       "        vertical-align: middle;\n",
       "    }\n",
       "\n",
       "    .dataframe tbody tr th {\n",
       "        vertical-align: top;\n",
       "    }\n",
       "\n",
       "    .dataframe thead th {\n",
       "        text-align: right;\n",
       "    }\n",
       "</style>\n",
       "<table border=\"1\" class=\"dataframe\">\n",
       "  <thead>\n",
       "    <tr style=\"text-align: right;\">\n",
       "      <th></th>\n",
       "      <th>question</th>\n",
       "      <th>answer1</th>\n",
       "      <th>answer2</th>\n",
       "      <th>label</th>\n",
       "      <th>sas</th>\n",
       "      <th>f1</th>\n",
       "      <th>bertvanilla</th>\n",
       "      <th>berttrained</th>\n",
       "      <th>bi_encoder</th>\n",
       "      <th>bleu</th>\n",
       "      <th>rouge_L</th>\n",
       "      <th>meteor</th>\n",
       "      <th>answer_encoded_twice</th>\n",
       "    </tr>\n",
       "  </thead>\n",
       "  <tbody>\n",
       "    <tr>\n",
       "      <th>1816</th>\n",
       "      <td>what is he on the periodic table of elements</td>\n",
       "      <td>He­lium</td>\n",
       "      <td>Helium</td>\n",
       "      <td>2.000</td>\n",
       "      <td>0.952</td>\n",
       "      <td>0.000</td>\n",
       "      <td>1.000</td>\n",
       "      <td>0.893</td>\n",
       "      <td>0.914</td>\n",
       "      <td>0.000</td>\n",
       "      <td>0.000</td>\n",
       "      <td>0.000</td>\n",
       "      <td>Helium</td>\n",
       "    </tr>\n",
       "  </tbody>\n",
       "</table>\n",
       "</div>"
      ],
      "text/plain": [
       "                                          question  answer1 answer2  label  \\\n",
       "1816  what is he on the periodic table of elements  He­lium  Helium  2.000   \n",
       "\n",
       "       sas    f1  bertvanilla  berttrained  bi_encoder  bleu  rouge_L  meteor  \\\n",
       "1816 0.952 0.000        1.000        0.893       0.914 0.000    0.000   0.000   \n",
       "\n",
       "     answer_encoded_twice  \n",
       "1816               Helium  "
      ]
     },
     "execution_count": 260,
     "metadata": {},
     "output_type": "execute_result"
    }
   ],
   "source": [
    "nq_open_aug[nq_open_aug.answer2 == 'Helium']"
   ]
  },
  {
   "cell_type": "code",
   "execution_count": 161,
   "metadata": {
    "ExecuteTime": {
     "end_time": "2021-10-20T11:15:52.448706Z",
     "start_time": "2021-10-20T11:15:52.387670Z"
    }
   },
   "outputs": [],
   "source": [
    "# uniquely_answered_df.to_csv('../data/nq/nq_open_filtered.csv')\n",
    "\n",
    "# potential_mislabels(nq_open_aug).to_csv('data/errors/nq_open_mislabelled.csv')"
   ]
  },
  {
   "cell_type": "code",
   "execution_count": 17,
   "metadata": {
    "ExecuteTime": {
     "end_time": "2021-11-02T17:17:22.301769Z",
     "start_time": "2021-11-02T17:17:22.265971Z"
    }
   },
   "outputs": [
    {
     "data": {
      "text/html": [
       "<div>\n",
       "<style scoped>\n",
       "    .dataframe tbody tr th:only-of-type {\n",
       "        vertical-align: middle;\n",
       "    }\n",
       "\n",
       "    .dataframe tbody tr th {\n",
       "        vertical-align: top;\n",
       "    }\n",
       "\n",
       "    .dataframe thead th {\n",
       "        text-align: right;\n",
       "    }\n",
       "</style>\n",
       "<table border=\"1\" class=\"dataframe\">\n",
       "  <thead>\n",
       "    <tr style=\"text-align: right;\">\n",
       "      <th></th>\n",
       "      <th>question</th>\n",
       "      <th>answer1</th>\n",
       "      <th>answer2</th>\n",
       "      <th>label</th>\n",
       "      <th>sas</th>\n",
       "      <th>f1</th>\n",
       "      <th>bertvanilla</th>\n",
       "      <th>berttrained</th>\n",
       "      <th>bi_encoder</th>\n",
       "      <th>bleu</th>\n",
       "      <th>rouge_L</th>\n",
       "      <th>meteor</th>\n",
       "      <th>answer_encoded_twice</th>\n",
       "    </tr>\n",
       "  </thead>\n",
       "  <tbody>\n",
       "    <tr>\n",
       "      <th>264</th>\n",
       "      <td>who sings you ain't seen nothing yet</td>\n",
       "      <td>Bachman–Turner Overdrive</td>\n",
       "      <td>Bachman\\\\u2013Turner Overdrive</td>\n",
       "      <td>0.000</td>\n",
       "      <td>0.902</td>\n",
       "      <td>0.500</td>\n",
       "      <td>0.594</td>\n",
       "      <td>0.908</td>\n",
       "      <td>0.942</td>\n",
       "      <td>0.000</td>\n",
       "      <td>0.667</td>\n",
       "      <td>0.250</td>\n",
       "      <td>Bachman–Turner Overdrive</td>\n",
       "    </tr>\n",
       "    <tr>\n",
       "      <th>1656</th>\n",
       "      <td>who played neris in only fools and horses</td>\n",
       "      <td>Andrée Bernard</td>\n",
       "      <td>Andr\\\\u00e9e Bernard</td>\n",
       "      <td>0.000</td>\n",
       "      <td>0.915</td>\n",
       "      <td>0.500</td>\n",
       "      <td>0.497</td>\n",
       "      <td>0.658</td>\n",
       "      <td>0.731</td>\n",
       "      <td>0.000</td>\n",
       "      <td>0.667</td>\n",
       "      <td>0.250</td>\n",
       "      <td>Andrée Bernard</td>\n",
       "    </tr>\n",
       "    <tr>\n",
       "      <th>1760</th>\n",
       "      <td>what time is assassin's creed origins set in</td>\n",
       "      <td>49–47 BCE</td>\n",
       "      <td>49\\\\u201347 BCE</td>\n",
       "      <td>0.000</td>\n",
       "      <td>0.522</td>\n",
       "      <td>0.500</td>\n",
       "      <td>0.514</td>\n",
       "      <td>0.785</td>\n",
       "      <td>0.833</td>\n",
       "      <td>0.000</td>\n",
       "      <td>0.667</td>\n",
       "      <td>0.250</td>\n",
       "      <td>49–47 BCE</td>\n",
       "    </tr>\n",
       "    <tr>\n",
       "      <th>2084</th>\n",
       "      <td>when was the last time liverpool won the pl</td>\n",
       "      <td>1989–90</td>\n",
       "      <td>1989\\\\u201390</td>\n",
       "      <td>0.000</td>\n",
       "      <td>0.505</td>\n",
       "      <td>0.000</td>\n",
       "      <td>0.444</td>\n",
       "      <td>0.780</td>\n",
       "      <td>0.855</td>\n",
       "      <td>0.000</td>\n",
       "      <td>0.500</td>\n",
       "      <td>0.000</td>\n",
       "      <td>1989–90</td>\n",
       "    </tr>\n",
       "  </tbody>\n",
       "</table>\n",
       "</div>"
      ],
      "text/plain": [
       "                                          question                   answer1  \\\n",
       "264           who sings you ain't seen nothing yet  Bachman–Turner Overdrive   \n",
       "1656     who played neris in only fools and horses            Andrée Bernard   \n",
       "1760  what time is assassin's creed origins set in                 49–47 BCE   \n",
       "2084   when was the last time liverpool won the pl                   1989–90   \n",
       "\n",
       "                             answer2  label   sas    f1  bertvanilla  \\\n",
       "264   Bachman\\\\u2013Turner Overdrive  0.000 0.902 0.500        0.594   \n",
       "1656            Andr\\\\u00e9e Bernard  0.000 0.915 0.500        0.497   \n",
       "1760                 49\\\\u201347 BCE  0.000 0.522 0.500        0.514   \n",
       "2084                   1989\\\\u201390  0.000 0.505 0.000        0.444   \n",
       "\n",
       "      berttrained  bi_encoder  bleu  rouge_L  meteor      answer_encoded_twice  \n",
       "264         0.908       0.942 0.000    0.667   0.250  Bachman–Turner Overdrive  \n",
       "1656        0.658       0.731 0.000    0.667   0.250            Andrée Bernard  \n",
       "1760        0.785       0.833 0.000    0.667   0.250                 49–47 BCE  \n",
       "2084        0.780       0.855 0.000    0.500   0.000                   1989–90  "
      ]
     },
     "execution_count": 17,
     "metadata": {},
     "output_type": "execute_result"
    }
   ],
   "source": [
    "nq_open_aug.loc[(nq_open_aug.answer_encoded_twice == nq_open_aug.answer1 )]"
   ]
  },
  {
   "cell_type": "code",
   "execution_count": 18,
   "metadata": {
    "ExecuteTime": {
     "end_time": "2021-11-02T17:17:24.736741Z",
     "start_time": "2021-11-02T17:17:24.724134Z"
    }
   },
   "outputs": [],
   "source": [
    "nq_open_aug.loc[(nq_open_aug.answer_encoded_twice == nq_open_aug.answer1 ), 'label' ] = 2"
   ]
  },
  {
   "cell_type": "markdown",
   "metadata": {},
   "source": [
    "Even the gold label answers are not necessarily correct anymore - time sensitivity of some factual questions don't necessarily stand up to the test of time."
   ]
  },
  {
   "cell_type": "code",
   "execution_count": 19,
   "metadata": {
    "ExecuteTime": {
     "end_time": "2021-11-02T17:17:28.032240Z",
     "start_time": "2021-11-02T17:17:28.023931Z"
    }
   },
   "outputs": [],
   "source": [
    "mislabeled = potential_mislabels(nq_open_aug)"
   ]
  },
  {
   "cell_type": "code",
   "execution_count": 21,
   "metadata": {
    "ExecuteTime": {
     "end_time": "2021-11-02T17:18:09.859245Z",
     "start_time": "2021-11-02T17:18:09.687591Z"
    }
   },
   "outputs": [
    {
     "name": "stdout",
     "output_type": "stream",
     "text": [
      "Analyze_SQuAD_Ardhendu.ipynb      interpret.ipynb\r\n",
      "Generation.ipynb                  \u001b[34moutput\u001b[m\u001b[m\r\n",
      "NQ-open.ipynb                     \u001b[34mpaws\u001b[m\u001b[m\r\n",
      "Reproduce_Evaluation.ipynb        prediction_sas.ipynb\r\n",
      "\u001b[34mdatasets\u001b[m\u001b[m                          prediction_sas_german-Copy1.ipynb\r\n",
      "deduce_subset_of_questions.ipynb  prediction_sas_german.ipynb\r\n",
      "dev-v2.0.json                     \u001b[34msemantic-answer-similarity\u001b[m\u001b[m\r\n",
      "\u001b[34mhaystack\u001b[m\u001b[m                          training.ipynb\r\n"
     ]
    }
   ],
   "source": [
    "!ls semantic-answer-similarity/data/errors/nq"
   ]
  },
  {
   "cell_type": "code",
   "execution_count": 22,
   "metadata": {
    "ExecuteTime": {
     "end_time": "2021-11-02T17:18:34.059349Z",
     "start_time": "2021-11-02T17:18:34.046994Z"
    }
   },
   "outputs": [],
   "source": [
    "# mislabeled.to_csv('semantic-answer-similarity/data/errors/nq_open_mislabelled.csv')"
   ]
  },
  {
   "cell_type": "code",
   "execution_count": 25,
   "metadata": {
    "ExecuteTime": {
     "end_time": "2021-11-02T17:19:19.555945Z",
     "start_time": "2021-11-02T17:19:19.522846Z"
    }
   },
   "outputs": [],
   "source": [
    "nq_open_aug = nq_open_aug.combine_first(mislabeled)"
   ]
  },
  {
   "cell_type": "code",
   "execution_count": 27,
   "metadata": {
    "ExecuteTime": {
     "end_time": "2021-11-02T17:20:54.133627Z",
     "start_time": "2021-11-02T17:20:54.105771Z"
    }
   },
   "outputs": [],
   "source": [
    "lines = []\n",
    "for answer in nq_open_aug.answer_encoded_twice.values:\n",
    "    if 'Ã' in answer:\n",
    "        lines.append(nq_open_aug[nq_open_aug.answer_encoded_twice==answer])"
   ]
  },
  {
   "cell_type": "code",
   "execution_count": 28,
   "metadata": {
    "ExecuteTime": {
     "end_time": "2021-11-02T17:20:57.707987Z",
     "start_time": "2021-11-02T17:20:57.699208Z"
    },
    "scrolled": true
   },
   "outputs": [],
   "source": [
    "incorrect_encodings_2 = pd.concat(lines)"
   ]
  },
  {
   "cell_type": "code",
   "execution_count": 20,
   "metadata": {
    "ExecuteTime": {
     "end_time": "2021-11-02T22:57:54.255881Z",
     "start_time": "2021-11-02T22:57:54.250366Z"
    }
   },
   "outputs": [],
   "source": [
    "def filter_by_sas(dataset, threshold=.25):\n",
    "    return dataset[(dataset.sas < threshold) & (dataset.label==2)]\n"
   ]
  },
  {
   "cell_type": "code",
   "execution_count": 94,
   "metadata": {
    "ExecuteTime": {
     "end_time": "2021-10-23T10:02:41.748630Z",
     "start_time": "2021-10-23T10:02:41.736517Z"
    }
   },
   "outputs": [],
   "source": [
    "# filter_by_sas(nq_open_aug, .0115)"
   ]
  },
  {
   "cell_type": "markdown",
   "metadata": {},
   "source": [
    "A lot of these steps required staring at answer triples: gold answer, predicted answer and encoded answer. "
   ]
  },
  {
   "cell_type": "code",
   "execution_count": 29,
   "metadata": {
    "ExecuteTime": {
     "end_time": "2021-11-02T17:21:07.334676Z",
     "start_time": "2021-11-02T17:21:07.326209Z"
    }
   },
   "outputs": [],
   "source": [
    "incorrect_encodings_2.loc[:, 'answer_encoded_twice'] = [\n",
    "    string.replace(\"\\\\\", r\"\\\\\").encode('utf8').decode('unicode-escape').encode(\n",
    "        'utf8').decode('unicode-escape')\n",
    "    for string in incorrect_encodings_2.answer2.values\n",
    "]"
   ]
  },
  {
   "cell_type": "code",
   "execution_count": 33,
   "metadata": {
    "ExecuteTime": {
     "end_time": "2021-10-26T17:28:24.957926Z",
     "start_time": "2021-10-26T17:28:24.938031Z"
    }
   },
   "outputs": [
    {
     "data": {
      "text/html": [
       "<div>\n",
       "<style scoped>\n",
       "    .dataframe tbody tr th:only-of-type {\n",
       "        vertical-align: middle;\n",
       "    }\n",
       "\n",
       "    .dataframe tbody tr th {\n",
       "        vertical-align: top;\n",
       "    }\n",
       "\n",
       "    .dataframe thead th {\n",
       "        text-align: right;\n",
       "    }\n",
       "</style>\n",
       "<table border=\"1\" class=\"dataframe\">\n",
       "  <thead>\n",
       "    <tr style=\"text-align: right;\">\n",
       "      <th></th>\n",
       "      <th>question</th>\n",
       "      <th>answer1</th>\n",
       "      <th>answer2</th>\n",
       "      <th>label</th>\n",
       "      <th>sas</th>\n",
       "      <th>f1</th>\n",
       "      <th>bertvanilla</th>\n",
       "      <th>berttrained</th>\n",
       "      <th>bi_encoder</th>\n",
       "      <th>bleu</th>\n",
       "      <th>rouge_L</th>\n",
       "      <th>meteor</th>\n",
       "      <th>answer_encoded_twice</th>\n",
       "    </tr>\n",
       "  </thead>\n",
       "  <tbody>\n",
       "    <tr>\n",
       "      <th>1736</th>\n",
       "      <td>who was the first king of england and what year</td>\n",
       "      <td>Canute the Great</td>\n",
       "      <td>\\u00e6thelstan</td>\n",
       "      <td>2.000</td>\n",
       "      <td>0.011</td>\n",
       "      <td>0.000</td>\n",
       "      <td>0.275</td>\n",
       "      <td>0.258</td>\n",
       "      <td>0.220</td>\n",
       "      <td>0.000</td>\n",
       "      <td>0.000</td>\n",
       "      <td>0.000</td>\n",
       "      <td>æthelstan</td>\n",
       "    </tr>\n",
       "  </tbody>\n",
       "</table>\n",
       "</div>"
      ],
      "text/plain": [
       "                                             question           answer1  \\\n",
       "1736  who was the first king of england and what year  Canute the Great   \n",
       "\n",
       "             answer2  label   sas    f1  bertvanilla  berttrained  bi_encoder  \\\n",
       "1736  \\u00e6thelstan  2.000 0.011 0.000        0.275        0.258       0.220   \n",
       "\n",
       "      bleu  rouge_L  meteor answer_encoded_twice  \n",
       "1736 0.000    0.000   0.000            æthelstan  "
      ]
     },
     "execution_count": 33,
     "metadata": {},
     "output_type": "execute_result"
    }
   ],
   "source": [
    "incorrect_encodings_2[incorrect_encodings_2.index==1736]"
   ]
  },
  {
   "cell_type": "code",
   "execution_count": 30,
   "metadata": {
    "ExecuteTime": {
     "end_time": "2021-11-02T17:21:19.912759Z",
     "start_time": "2021-11-02T17:21:19.874962Z"
    }
   },
   "outputs": [
    {
     "data": {
      "text/plain": [
       "(3635, 13)"
      ]
     },
     "execution_count": 30,
     "metadata": {},
     "output_type": "execute_result"
    }
   ],
   "source": [
    "incorrect_encodings_2.combine_first(nq_open_aug).shape"
   ]
  },
  {
   "cell_type": "code",
   "execution_count": 31,
   "metadata": {
    "ExecuteTime": {
     "end_time": "2021-11-02T17:21:35.968355Z",
     "start_time": "2021-11-02T17:21:35.935782Z"
    }
   },
   "outputs": [],
   "source": [
    "new_nq_open_aug = incorrect_encodings_2.combine_first(nq_open_aug)"
   ]
  },
  {
   "cell_type": "code",
   "execution_count": 39,
   "metadata": {
    "ExecuteTime": {
     "end_time": "2021-11-02T20:29:13.871782Z",
     "start_time": "2021-11-02T20:29:13.788392Z"
    }
   },
   "outputs": [
    {
     "data": {
      "text/html": [
       "<div>\n",
       "<style scoped>\n",
       "    .dataframe tbody tr th:only-of-type {\n",
       "        vertical-align: middle;\n",
       "    }\n",
       "\n",
       "    .dataframe tbody tr th {\n",
       "        vertical-align: top;\n",
       "    }\n",
       "\n",
       "    .dataframe thead th {\n",
       "        text-align: right;\n",
       "    }\n",
       "</style>\n",
       "<table border=\"1\" class=\"dataframe\">\n",
       "  <thead>\n",
       "    <tr style=\"text-align: right;\">\n",
       "      <th></th>\n",
       "      <th>question</th>\n",
       "      <th>answer1</th>\n",
       "      <th>answer2</th>\n",
       "      <th>label</th>\n",
       "      <th>sas</th>\n",
       "      <th>f1</th>\n",
       "      <th>bertvanilla</th>\n",
       "      <th>berttrained</th>\n",
       "      <th>bi_encoder</th>\n",
       "      <th>bleu</th>\n",
       "      <th>rouge_L</th>\n",
       "      <th>meteor</th>\n",
       "      <th>answer_encoded_twice</th>\n",
       "    </tr>\n",
       "  </thead>\n",
       "  <tbody>\n",
       "    <tr>\n",
       "      <th>1736</th>\n",
       "      <td>who was the first king of england and what year</td>\n",
       "      <td>Canute the Great</td>\n",
       "      <td>\\u00e6thelstan</td>\n",
       "      <td>2.000</td>\n",
       "      <td>0.011</td>\n",
       "      <td>0.000</td>\n",
       "      <td>0.275</td>\n",
       "      <td>0.258</td>\n",
       "      <td>0.220</td>\n",
       "      <td>0.000</td>\n",
       "      <td>0.000</td>\n",
       "      <td>0.000</td>\n",
       "      <td>æthelstan</td>\n",
       "    </tr>\n",
       "  </tbody>\n",
       "</table>\n",
       "</div>"
      ],
      "text/plain": [
       "                                             question           answer1  \\\n",
       "1736  who was the first king of england and what year  Canute the Great   \n",
       "\n",
       "             answer2  label   sas    f1  bertvanilla  berttrained  bi_encoder  \\\n",
       "1736  \\u00e6thelstan  2.000 0.011 0.000        0.275        0.258       0.220   \n",
       "\n",
       "      bleu  rouge_L  meteor answer_encoded_twice  \n",
       "1736 0.000    0.000   0.000            æthelstan  "
      ]
     },
     "execution_count": 39,
     "metadata": {},
     "output_type": "execute_result"
    }
   ],
   "source": [
    "new_nq_open_aug[new_nq_open_aug.index == 1736]"
   ]
  },
  {
   "cell_type": "code",
   "execution_count": 40,
   "metadata": {
    "ExecuteTime": {
     "end_time": "2021-11-02T20:30:11.453304Z",
     "start_time": "2021-11-02T20:30:11.260543Z"
    }
   },
   "outputs": [],
   "source": [
    "# new_nq_open_aug.to_csv('semantic-answer-similarity/data/errors/nq_open_corrected_and_augmented.csv')"
   ]
  },
  {
   "cell_type": "code",
   "execution_count": 43,
   "metadata": {
    "ExecuteTime": {
     "end_time": "2021-11-02T20:30:30.470533Z",
     "start_time": "2021-11-02T20:30:30.431848Z"
    }
   },
   "outputs": [],
   "source": [
    "# filter_by_sas(new_nq_open_aug, .25).to_csv('semantic-answer-similarity/data/errors/nq_open_sas_low_scores.csv')"
   ]
  },
  {
   "cell_type": "code",
   "execution_count": 82,
   "metadata": {
    "ExecuteTime": {
     "end_time": "2021-10-23T14:26:03.119636Z",
     "start_time": "2021-10-23T14:26:03.106677Z"
    }
   },
   "outputs": [],
   "source": [
    "# filter_by_sas(new_nq_open_aug, .25).to_csv('data/errors/nq_open_sas_low_scores.csv')"
   ]
  },
  {
   "cell_type": "code",
   "execution_count": 28,
   "metadata": {
    "ExecuteTime": {
     "end_time": "2021-11-05T08:24:47.363442Z",
     "start_time": "2021-11-05T08:24:47.344378Z"
    }
   },
   "outputs": [],
   "source": [
    "errors = pd.read_csv('data/errors/nq_open_sas_low_scores_annotated.csv',\n",
    "                     encoding='unicode_escape',\n",
    "                     index_col=0)"
   ]
  },
  {
   "cell_type": "code",
   "execution_count": 55,
   "metadata": {
    "ExecuteTime": {
     "end_time": "2021-10-26T21:02:11.342070Z",
     "start_time": "2021-10-26T21:02:11.328234Z"
    }
   },
   "outputs": [],
   "source": [
    "# errors = pd.read_csv('semantic-answer-similarity/data/errors/errors_25.csv', index_col=0)"
   ]
  },
  {
   "cell_type": "code",
   "execution_count": 23,
   "metadata": {
    "ExecuteTime": {
     "end_time": "2021-11-02T22:58:43.745814Z",
     "start_time": "2021-11-02T22:58:43.738780Z"
    }
   },
   "outputs": [],
   "source": [
    "errors = errors.drop(\"Answer similarity\", axis=1)"
   ]
  },
  {
   "cell_type": "code",
   "execution_count": 60,
   "metadata": {
    "ExecuteTime": {
     "end_time": "2021-11-02T23:11:43.866427Z",
     "start_time": "2021-11-02T23:11:43.859228Z"
    }
   },
   "outputs": [],
   "source": [
    "to_be_excluded = errors[errors.Explanation.isin(TO_BE_EXCLUDED)].index"
   ]
  },
  {
   "cell_type": "code",
   "execution_count": 55,
   "metadata": {
    "ExecuteTime": {
     "end_time": "2021-11-02T23:10:20.366581Z",
     "start_time": "2021-11-02T23:10:20.355535Z"
    }
   },
   "outputs": [
    {
     "data": {
      "text/plain": [
       "(3635, 13)"
      ]
     },
     "execution_count": 55,
     "metadata": {},
     "output_type": "execute_result"
    }
   ],
   "source": [
    "nq_open_aug.shape"
   ]
  },
  {
   "cell_type": "code",
   "execution_count": 61,
   "metadata": {
    "ExecuteTime": {
     "end_time": "2021-11-02T23:11:46.006682Z",
     "start_time": "2021-11-02T23:11:45.994120Z"
    }
   },
   "outputs": [
    {
     "data": {
      "text/plain": [
       "(3581, 13)"
      ]
     },
     "execution_count": 61,
     "metadata": {},
     "output_type": "execute_result"
    }
   ],
   "source": [
    "# Exclude pairs that have been created from dubious quality questions/gold labels.\n",
    "\n",
    "nq_open_aug = nq_open_aug[~nq_open_aug.index.isin(to_be_excluded)]\n",
    "nq_open_aug.shape"
   ]
  },
  {
   "cell_type": "code",
   "execution_count": 30,
   "metadata": {
    "ExecuteTime": {
     "end_time": "2021-11-05T08:38:07.180928Z",
     "start_time": "2021-11-05T08:38:07.123764Z"
    }
   },
   "outputs": [],
   "source": [
    "annotated_high_scores = pd.read_csv('data/errors/nq_open_high_scores_annotated.csv',\n",
    "    index_col=0)"
   ]
  },
  {
   "cell_type": "code",
   "execution_count": 62,
   "metadata": {
    "ExecuteTime": {
     "end_time": "2021-11-02T23:12:04.862203Z",
     "start_time": "2021-11-02T23:12:04.855034Z"
    }
   },
   "outputs": [],
   "source": [
    "wrong_label_index = annotated_high_scores[\n",
    "    annotated_high_scores.Explanation.isin(TO_BE_EXCLUDED)].index"
   ]
  },
  {
   "cell_type": "code",
   "execution_count": 64,
   "metadata": {
    "ExecuteTime": {
     "end_time": "2021-11-02T23:12:09.994290Z",
     "start_time": "2021-11-02T23:12:09.984689Z"
    },
    "scrolled": true
   },
   "outputs": [
    {
     "data": {
      "text/plain": [
       "(3572, 13)"
      ]
     },
     "execution_count": 64,
     "metadata": {},
     "output_type": "execute_result"
    }
   ],
   "source": [
    "nq_open_aug = nq_open_aug[~nq_open_aug.index.isin(wrong_label_index)]\n",
    "nq_open_aug.shape"
   ]
  },
  {
   "cell_type": "code",
   "execution_count": 66,
   "metadata": {},
   "outputs": [],
   "source": [
    "annotated_high_scores['label'] = annotated_high_scores['label_1']"
   ]
  },
  {
   "cell_type": "code",
   "execution_count": 70,
   "metadata": {
    "ExecuteTime": {
     "end_time": "2021-11-02T23:07:31.524347Z",
     "start_time": "2021-11-02T23:07:31.483338Z"
    }
   },
   "outputs": [],
   "source": [
    "nq_open_aug.loc[(nq_open_aug.index.isin(annotated_high_scores.index )), 'label' ] = annotated_high_scores.label"
   ]
  },
  {
   "cell_type": "code",
   "execution_count": 105,
   "metadata": {},
   "outputs": [],
   "source": [
    "nq_open_aug.loc[nq_open_aug.label.isna(), 'label'] = [0, 2]"
   ]
  },
  {
   "cell_type": "code",
   "execution_count": 73,
   "metadata": {},
   "outputs": [],
   "source": [
    "nq_open_aug.to_csv('semantic-answer-similarity/data/errors/nq_open_corrected_and_augmented_relabelled.csv')"
   ]
  },
  {
   "cell_type": "code",
   "execution_count": 33,
   "metadata": {
    "ExecuteTime": {
     "end_time": "2021-11-05T08:38:38.563210Z",
     "start_time": "2021-11-05T08:38:38.553790Z"
    }
   },
   "outputs": [],
   "source": [
    "filtered_errors = errors[~errors.Explanation.isin(TO_BE_EXCLUDED)]"
   ]
  },
  {
   "cell_type": "code",
   "execution_count": 34,
   "metadata": {
    "ExecuteTime": {
     "end_time": "2021-11-05T08:38:40.699795Z",
     "start_time": "2021-11-05T08:38:40.686567Z"
    }
   },
   "outputs": [],
   "source": [
    "filtered_errors_1 = pd.concat([\n",
    "    filtered_errors, annotated_high_scores[~annotated_high_scores.Explanation.\n",
    "                                           isin(TO_BE_EXCLUDED)]\n",
    "])"
   ]
  },
  {
   "cell_type": "code",
   "execution_count": 35,
   "metadata": {
    "ExecuteTime": {
     "end_time": "2021-11-05T08:38:43.588585Z",
     "start_time": "2021-11-05T08:38:43.578771Z"
    }
   },
   "outputs": [],
   "source": [
    "filtered_errors_1 = filtered_errors_1[filtered_errors_1.Explanation != 'Wrong label']"
   ]
  },
  {
   "cell_type": "code",
   "execution_count": 10,
   "metadata": {
    "ExecuteTime": {
     "end_time": "2021-11-05T08:06:46.070855Z",
     "start_time": "2021-11-05T08:06:46.063430Z"
    }
   },
   "outputs": [],
   "source": [
    "# nq_open_aug[(nq_open_aug.sas > 0.25 ) & (nq_open_aug.sas <= 0.5)]"
   ]
  },
  {
   "cell_type": "code",
   "execution_count": 106,
   "metadata": {},
   "outputs": [],
   "source": [
    "# nq_open_aug.to_csv('semantic-answer-similarity/data/errors/nq_open_corrected_and_augmented_relabelled.csv')"
   ]
  },
  {
   "cell_type": "code",
   "execution_count": 25,
   "metadata": {
    "ExecuteTime": {
     "end_time": "2021-11-05T08:23:15.287852Z",
     "start_time": "2021-11-05T08:23:15.281269Z"
    }
   },
   "outputs": [],
   "source": [
    "def plot_log_distribution_per_label(nq_open_aug, metric):\n",
    "#     pyplot.figure(dpi=100)\n",
    "    labels = sorted(nq_open_aug.label.unique())\n",
    "    for label in (labels):\n",
    "        nq_open_aug[nq_open_aug.label == label][metric].hist(bins=100, density=True, histtype='step')\n",
    "    add_gridlines_remove_spines()\n",
    "    pyplot.legend(labels)\n",
    "    if metric == 'sas':\n",
    "        title = 'SAS'\n",
    "    else: \n",
    "        title = 'BERTScore trained'\n",
    "    pyplot.title(f'Distribution of {title} scores', y=1.03)\n",
    "    pyplot.yscale('log')"
   ]
  },
  {
   "cell_type": "code",
   "execution_count": 26,
   "metadata": {
    "ExecuteTime": {
     "end_time": "2021-11-05T08:23:19.747907Z",
     "start_time": "2021-11-05T08:23:18.541775Z"
    }
   },
   "outputs": [
    {
     "data": {
      "image/png": "[encoded data removed]",
      "text/plain": [
       "<Figure size 600x400 with 1 Axes>"
      ]
     },
     "metadata": {
      "needs_background": "light"
     },
     "output_type": "display_data"
    }
   ],
   "source": [
    "pyplot.figure(figsize=(6, 4), dpi=100)\n",
    "plot_log_distribution_per_label(nq_open_aug=nq_open_aug[nq_open_aug.f1 == 0], metric='sas')\n",
    "pyplot.savefig('data/images/nq_open_all_after_relabelling.pdf', bbox_inches='tight')\n",
    "# plot_log_distribution_per_label(nq_open_aug=nq_open_aug[nq_open_aug.f1 != 0])"
   ]
  },
  {
   "cell_type": "code",
   "execution_count": 27,
   "metadata": {
    "ExecuteTime": {
     "end_time": "2021-11-05T08:23:37.412909Z",
     "start_time": "2021-11-05T08:23:36.423237Z"
    }
   },
   "outputs": [
    {
     "data": {
      "image/png": "[encoded data removed]",
      "text/plain": [
       "<Figure size 600x400 with 1 Axes>"
      ]
     },
     "metadata": {
      "needs_background": "light"
     },
     "output_type": "display_data"
    }
   ],
   "source": [
    "pyplot.figure(figsize=(6, 4), dpi=100)\n",
    "plot_log_distribution_per_label(nq_open_aug=nq_open_aug[nq_open_aug.f1 == 0], metric='berttrained')\n",
    "pyplot.savefig('data/images/berttrained_nq_open_f1_0.pdf', bbox_inches='tight')"
   ]
  },
  {
   "cell_type": "code",
   "execution_count": 153,
   "metadata": {},
   "outputs": [
    {
     "data": {
      "image/png": "[encoded data removed]",
      "text/plain": [
       "<Figure size 600x400 with 1 Axes>"
      ]
     },
     "metadata": {
      "needs_background": "light"
     },
     "output_type": "display_data"
    }
   ],
   "source": [
    "pyplot.figure(dpi=100)\n",
    "for label in nq_open_aug.label.unique():\n",
    "    nq_open_aug[nq_open_aug.label == label].sas.hist(bins=100, density=True, histtype='step')\n",
    "\n",
    "add_gridlines_remove_spines()\n",
    "pyplot.legend(nq_open_aug.label.unique())\n",
    "pyplot.title('Distribution of SAS scores when human label is \\n\"definitely incorrect\"', y=1.03)\n",
    "pyplot.yscale('log')"
   ]
  },
  {
   "cell_type": "code",
   "execution_count": 169,
   "metadata": {},
   "outputs": [
    {
     "name": "stdout",
     "output_type": "stream",
     "text": [
      "f1_0           0    1\n",
      "discrete             \n",
      "(0.0, 0.1]   414    1\n",
      "(0.1, 1.0]  2584  528\n",
      "f1_0           0    1\n",
      "discrete             \n",
      "(0.0, 0.1]  2619   34\n",
      "(0.1, 1.0]   424  495\n"
     ]
    }
   ],
   "source": [
    "bins = [0, 0.1, 1]\n",
    "df = nq_open_aug.copy()\n",
    "# df = pd.read_csv('semantic-answer-similarity/data/table/nq_open_table_results.csv')\n",
    "df['discrete'] = pd.cut(df.berttrained, bins=bins)\n",
    "df['f1_0'] = np.where(df.f1>0, 1, 0)\n",
    "\n",
    "print(pd.crosstab(df.discrete, df.f1_0))\n",
    "\n",
    "bins = [0, 0.1, 1]\n",
    "df = nq_open_aug.copy()\n",
    "# df = pd.read_csv('semantic-answer-similarity/data/table/nq_open_table_results.csv')\n",
    "df['discrete'] = pd.cut(df.sas, bins=bins)\n",
    "df['f1_0'] = np.where(df.f1>0, 1, 0)\n",
    "\n",
    "print(pd.crosstab(df.discrete, df.f1_0))"
   ]
  },
  {
   "cell_type": "code",
   "execution_count": 173,
   "metadata": {},
   "outputs": [
    {
     "data": {
      "text/plain": [
       "array([['what is he on the periodic table of elements', 'He\\xadlium',\n",
       "        'Helium', 2.0, 0.9522592425346376, 0.0, 1.0000001192092896,\n",
       "        0.8931893706321716, 0.9140594601631165, 0.0, 0.0, 0.0, 'Helium']],\n",
       "      dtype=object)"
      ]
     },
     "execution_count": 173,
     "metadata": {},
     "output_type": "execute_result"
    }
   ],
   "source": [
    "nq_open_aug[nq_open_aug.answer2 == 'Helium'].values"
   ]
  },
  {
   "cell_type": "code",
   "execution_count": 13,
   "metadata": {
    "ExecuteTime": {
     "end_time": "2021-11-05T08:07:39.917959Z",
     "start_time": "2021-11-05T08:07:39.846754Z"
    }
   },
   "outputs": [
    {
     "data": {
      "text/html": [
       "<div>\n",
       "<style scoped>\n",
       "    .dataframe tbody tr th:only-of-type {\n",
       "        vertical-align: middle;\n",
       "    }\n",
       "\n",
       "    .dataframe tbody tr th {\n",
       "        vertical-align: top;\n",
       "    }\n",
       "\n",
       "    .dataframe thead th {\n",
       "        text-align: right;\n",
       "    }\n",
       "</style>\n",
       "<table border=\"1\" class=\"dataframe\">\n",
       "  <thead>\n",
       "    <tr style=\"text-align: right;\">\n",
       "      <th></th>\n",
       "      <th>label</th>\n",
       "      <th>label</th>\n",
       "      <th>label</th>\n",
       "    </tr>\n",
       "  </thead>\n",
       "  <tbody>\n",
       "    <tr>\n",
       "      <th>0.000</th>\n",
       "      <td>2621</td>\n",
       "      <td>2603</td>\n",
       "      <td>2557</td>\n",
       "    </tr>\n",
       "    <tr>\n",
       "      <th>1.000</th>\n",
       "      <td>593</td>\n",
       "      <td>587</td>\n",
       "      <td>595</td>\n",
       "    </tr>\n",
       "    <tr>\n",
       "      <th>2.000</th>\n",
       "      <td>444</td>\n",
       "      <td>445</td>\n",
       "      <td>418</td>\n",
       "    </tr>\n",
       "  </tbody>\n",
       "</table>\n",
       "</div>"
      ],
      "text/plain": [
       "       label  label  label\n",
       "0.000   2621   2603   2557\n",
       "1.000    593    587    595\n",
       "2.000    444    445    418"
      ]
     },
     "execution_count": 13,
     "metadata": {},
     "output_type": "execute_result"
    }
   ],
   "source": [
    "pd.concat([\n",
    "    pd.read_csv('data/table/nq_open_table_results.csv').label.value_counts(),\n",
    "    pd.read_csv('data/errors/nq_open_corrected_and_augmented.csv'\n",
    "                ).label.value_counts(),\n",
    "    pd.read_csv('data/errors/nq_open_corrected_and_augmented_relabelled.csv').\n",
    "    label.value_counts(),\n",
    "],\n",
    "    axis=1)"
   ]
  },
  {
   "cell_type": "code",
   "execution_count": 109,
   "metadata": {
    "ExecuteTime": {
     "end_time": "2021-11-02T22:43:23.169888Z",
     "start_time": "2021-11-02T22:43:23.153040Z"
    }
   },
   "outputs": [],
   "source": [
    "erroneous_samples_index = errors[errors.Explanation.isin(\n",
    "    ['Wrong gold label', 'Imprecise question', 'Multiple correct answers'])].index"
   ]
  },
  {
   "cell_type": "code",
   "execution_count": 112,
   "metadata": {
    "ExecuteTime": {
     "end_time": "2021-11-02T22:44:57.865391Z",
     "start_time": "2021-11-02T22:44:57.858836Z"
    }
   },
   "outputs": [],
   "source": [
    "nq_open_aug = nq_open_aug[~nq_open_aug.index.isin(erroneous_samples_index)]"
   ]
  },
  {
   "cell_type": "code",
   "execution_count": 38,
   "metadata": {
    "ExecuteTime": {
     "end_time": "2021-11-05T08:41:56.399184Z",
     "start_time": "2021-11-05T08:41:55.847410Z"
    }
   },
   "outputs": [
    {
     "data": {
      "image/png": "[encoded data removed]",
      "text/plain": [
       "<Figure size 400x300 with 1 Axes>"
      ]
     },
     "metadata": {
      "needs_background": "light"
     },
     "output_type": "display_data"
    }
   ],
   "source": [
    "fig = pyplot.figure(figsize=(4, 3), dpi=100)\n",
    "seaborn.countplot(y='Explanation',\n",
    "                  data=filtered_errors_1,\n",
    "                  orient='h',\n",
    "                  order=filtered_errors_1.Explanation.value_counts().index,\n",
    "                  palette='pastel')\n",
    "ax = fig.gca()\n",
    "pyplot.setp(ax, xlabel='', ylabel='')\n",
    "\n",
    "\n",
    "pyplot.title('Example SAS/label disagreement \\nexplanations for NQ-open', y=1.03)\n",
    "\n",
    "ax.xaxis.set_major_locator(MaxNLocator(integer=True))\n",
    "seaborn.despine()\n",
    "pyplot.savefig('data/images/explanations_1.pdf', bbox_inches='tight')\n",
    "\n",
    "# add_gridlines_remove_spines()"
   ]
  },
  {
   "cell_type": "code",
   "execution_count": 137,
   "metadata": {},
   "outputs": [
    {
     "data": {
      "text/html": [
       "<div>\n",
       "<style scoped>\n",
       "    .dataframe tbody tr th:only-of-type {\n",
       "        vertical-align: middle;\n",
       "    }\n",
       "\n",
       "    .dataframe tbody tr th {\n",
       "        vertical-align: top;\n",
       "    }\n",
       "\n",
       "    .dataframe thead th {\n",
       "        text-align: right;\n",
       "    }\n",
       "</style>\n",
       "<table border=\"1\" class=\"dataframe\">\n",
       "  <thead>\n",
       "    <tr style=\"text-align: right;\">\n",
       "      <th></th>\n",
       "      <th>question</th>\n",
       "      <th>answer1</th>\n",
       "      <th>answer2</th>\n",
       "      <th>label_1</th>\n",
       "      <th>Explanation</th>\n",
       "      <th>label</th>\n",
       "      <th>sas</th>\n",
       "      <th>f1</th>\n",
       "      <th>bertvanilla</th>\n",
       "      <th>berttrained</th>\n",
       "      <th>bi_encoder</th>\n",
       "      <th>bleu</th>\n",
       "      <th>rouge_L</th>\n",
       "      <th>meteor</th>\n",
       "      <th>answer_encoded_twice</th>\n",
       "    </tr>\n",
       "  </thead>\n",
       "  <tbody>\n",
       "  </tbody>\n",
       "</table>\n",
       "</div>"
      ],
      "text/plain": [
       "Empty DataFrame\n",
       "Columns: [question, answer1, answer2, label_1, Explanation, label, sas, f1, bertvanilla, berttrained, bi_encoder, bleu, rouge_L, meteor, answer_encoded_twice]\n",
       "Index: []"
      ]
     },
     "execution_count": 137,
     "metadata": {},
     "output_type": "execute_result"
    }
   ],
   "source": [
    "annotated_high_scores[annotated_high_scores.Explanation.str.contains('Unrelated answer')]"
   ]
  },
  {
   "cell_type": "code",
   "execution_count": 62,
   "metadata": {
    "ExecuteTime": {
     "end_time": "2021-10-26T21:03:01.943742Z",
     "start_time": "2021-10-26T21:03:01.627274Z"
    }
   },
   "outputs": [
    {
     "data": {
      "image/png": "[encoded data removed]",
      "text/plain": [
       "<Figure size 400x300 with 1 Axes>"
      ]
     },
     "metadata": {
      "needs_background": "light"
     },
     "output_type": "display_data"
    }
   ],
   "source": [
    "fig = pyplot.figure(figsize=(4, 3), dpi=100)\n",
    "seaborn.countplot(y='Explanation',\n",
    "                  data=filtered_errors,\n",
    "                  orient='h',\n",
    "                  order=filtered_errors.Explanation.value_counts().index,\n",
    "                  palette='pastel')\n",
    "ax = fig.gca()\n",
    "pyplot.setp(ax, xlabel='', ylabel='')\n",
    "\n",
    "\n",
    "pyplot.title('SAS/label disagreement explanations\\nfor NQ-open', y=1.03)\n",
    "\n",
    "ax.xaxis.set_major_locator(MaxNLocator(integer=True))\n",
    "seaborn.despine()\n",
    "# add_gridlines_remove_spines()"
   ]
  },
  {
   "cell_type": "code",
   "execution_count": 71,
   "metadata": {
    "ExecuteTime": {
     "end_time": "2021-10-26T21:14:35.228120Z",
     "start_time": "2021-10-26T21:14:35.215074Z"
    }
   },
   "outputs": [],
   "source": [
    "filtered_nq_open_aug = nq_open_aug[\n",
    "    ~nq_open_aug.index.isin(errors[errors.Explanation.isin(\n",
    "        ['Wrong gold label', 'Imprecise question', 'Multiple correct answers']\n",
    "    )].index)]"
   ]
  },
  {
   "cell_type": "code",
   "execution_count": 74,
   "metadata": {
    "ExecuteTime": {
     "end_time": "2021-10-26T21:15:54.793627Z",
     "start_time": "2021-10-26T21:15:54.722847Z"
    },
    "scrolled": true
   },
   "outputs": [],
   "source": [
    "filtered_nq_open_aug.to_csv(DATA_PATH + '/filtered_nq_open_aug.csv')"
   ]
  },
  {
   "cell_type": "code",
   "execution_count": 61,
   "metadata": {
    "ExecuteTime": {
     "end_time": "2021-11-02T20:44:44.020184Z",
     "start_time": "2021-11-02T20:44:43.982271Z"
    }
   },
   "outputs": [],
   "source": [
    "nq_open_aug[(nq_open_aug.sas > 0.5) & (nq_open_aug.label == 0)].to_csv('semantic-answer-similarity/data/errors/nq_open_high_scores.csv')"
   ]
  },
  {
   "cell_type": "code",
   "execution_count": 60,
   "metadata": {
    "ExecuteTime": {
     "end_time": "2021-11-02T20:44:16.773239Z",
     "start_time": "2021-11-02T20:44:16.752901Z"
    }
   },
   "outputs": [
    {
     "data": {
      "text/plain": [
       "(55, 13)"
      ]
     },
     "execution_count": 60,
     "metadata": {},
     "output_type": "execute_result"
    }
   ],
   "source": [
    "nq_open_aug[(nq_open_aug.sas > 0.5) & (nq_open_aug.label == 0)].shape"
   ]
  },
  {
   "cell_type": "code",
   "execution_count": 41,
   "metadata": {
    "ExecuteTime": {
     "end_time": "2021-11-02T23:05:48.329107Z",
     "start_time": "2021-11-02T23:05:48.314387Z"
    }
   },
   "outputs": [],
   "source": [
    "filtered_errors_high = annotated_high_scores[annotated_high_scores.Explanation == 'Wrong label']"
   ]
  },
  {
   "cell_type": "code",
   "execution_count": 42,
   "metadata": {
    "ExecuteTime": {
     "end_time": "2021-11-02T23:05:49.063666Z",
     "start_time": "2021-11-02T23:05:49.052462Z"
    }
   },
   "outputs": [],
   "source": [
    "filtered_errors_high['label'] = filtered_errors_high['label_1']"
   ]
  },
  {
   "cell_type": "code",
   "execution_count": 43,
   "metadata": {
    "ExecuteTime": {
     "end_time": "2021-11-02T23:05:54.493112Z",
     "start_time": "2021-11-02T23:05:54.453825Z"
    }
   },
   "outputs": [],
   "source": [
    "filtered_errors_high = filtered_errors_high.drop(['Explanation', 'label_1'], axis=1)"
   ]
  },
  {
   "cell_type": "code",
   "execution_count": 44,
   "metadata": {
    "ExecuteTime": {
     "end_time": "2021-11-02T23:05:55.782723Z",
     "start_time": "2021-11-02T23:05:55.710660Z"
    }
   },
   "outputs": [
    {
     "data": {
      "text/html": [
       "<div>\n",
       "<style scoped>\n",
       "    .dataframe tbody tr th:only-of-type {\n",
       "        vertical-align: middle;\n",
       "    }\n",
       "\n",
       "    .dataframe tbody tr th {\n",
       "        vertical-align: top;\n",
       "    }\n",
       "\n",
       "    .dataframe thead th {\n",
       "        text-align: right;\n",
       "    }\n",
       "</style>\n",
       "<table border=\"1\" class=\"dataframe\">\n",
       "  <thead>\n",
       "    <tr style=\"text-align: right;\">\n",
       "      <th></th>\n",
       "      <th>question</th>\n",
       "      <th>answer1</th>\n",
       "      <th>answer2</th>\n",
       "      <th>label</th>\n",
       "      <th>sas</th>\n",
       "      <th>f1</th>\n",
       "      <th>bertvanilla</th>\n",
       "      <th>berttrained</th>\n",
       "      <th>bi_encoder</th>\n",
       "      <th>bleu</th>\n",
       "      <th>rouge_L</th>\n",
       "      <th>meteor</th>\n",
       "      <th>answer_encoded_twice</th>\n",
       "    </tr>\n",
       "  </thead>\n",
       "  <tbody>\n",
       "    <tr>\n",
       "      <th>22</th>\n",
       "      <td>how many players can an nfl team have</td>\n",
       "      <td>53-member main roster</td>\n",
       "      <td>a maximum of 53</td>\n",
       "      <td>2.000</td>\n",
       "      <td>0.781</td>\n",
       "      <td>0.000</td>\n",
       "      <td>0.423</td>\n",
       "      <td>0.751</td>\n",
       "      <td>0.777</td>\n",
       "      <td>0</td>\n",
       "      <td>0.250</td>\n",
       "      <td>0.000</td>\n",
       "      <td>a maximum of 53</td>\n",
       "    </tr>\n",
       "    <tr>\n",
       "      <th>99</th>\n",
       "      <td>comprehensive written version of the jewish oral law</td>\n",
       "      <td>Oral Torah</td>\n",
       "      <td>the Mishnah</td>\n",
       "      <td>2.000</td>\n",
       "      <td>0.678</td>\n",
       "      <td>0.000</td>\n",
       "      <td>0.286</td>\n",
       "      <td>0.413</td>\n",
       "      <td>0.410</td>\n",
       "      <td>0</td>\n",
       "      <td>0.000</td>\n",
       "      <td>0.000</td>\n",
       "      <td>the Mishnah</td>\n",
       "    </tr>\n",
       "    <tr>\n",
       "      <th>276</th>\n",
       "      <td>when was the last time dallas went to the superbowl</td>\n",
       "      <td>1995</td>\n",
       "      <td>1993, 1995</td>\n",
       "      <td>0.000</td>\n",
       "      <td>0.558</td>\n",
       "      <td>0.667</td>\n",
       "      <td>0.830</td>\n",
       "      <td>0.793</td>\n",
       "      <td>0.802</td>\n",
       "      <td>0</td>\n",
       "      <td>0.667</td>\n",
       "      <td>0.179</td>\n",
       "      <td>1993, 1995</td>\n",
       "    </tr>\n",
       "    <tr>\n",
       "      <th>437</th>\n",
       "      <td>how many games do you need to play to get a stanley cup ring</td>\n",
       "      <td>best-of-seven</td>\n",
       "      <td>best - of - seven</td>\n",
       "      <td>2.000</td>\n",
       "      <td>0.965</td>\n",
       "      <td>0.000</td>\n",
       "      <td>1.000</td>\n",
       "      <td>0.926</td>\n",
       "      <td>0.941</td>\n",
       "      <td>0</td>\n",
       "      <td>1.000</td>\n",
       "      <td>0.000</td>\n",
       "      <td>best - of - seven</td>\n",
       "    </tr>\n",
       "    <tr>\n",
       "      <th>438</th>\n",
       "      <td>how many games do you need to play to get a stanley cup ring</td>\n",
       "      <td>best-of-seven</td>\n",
       "      <td>four - of - seven - games</td>\n",
       "      <td>2.000</td>\n",
       "      <td>0.608</td>\n",
       "      <td>0.000</td>\n",
       "      <td>0.786</td>\n",
       "      <td>0.634</td>\n",
       "      <td>0.635</td>\n",
       "      <td>0</td>\n",
       "      <td>0.571</td>\n",
       "      <td>0.000</td>\n",
       "      <td>four - of - seven - games</td>\n",
       "    </tr>\n",
       "    <tr>\n",
       "      <th>524</th>\n",
       "      <td>where did the pilgrims land in the americas</td>\n",
       "      <td>Plymouth, Massachusetts</td>\n",
       "      <td>Plymouth Colony</td>\n",
       "      <td>2.000</td>\n",
       "      <td>0.637</td>\n",
       "      <td>0.500</td>\n",
       "      <td>0.603</td>\n",
       "      <td>0.729</td>\n",
       "      <td>0.701</td>\n",
       "      <td>0</td>\n",
       "      <td>0.500</td>\n",
       "      <td>0.238</td>\n",
       "      <td>Plymouth Colony</td>\n",
       "    </tr>\n",
       "    <tr>\n",
       "      <th>683</th>\n",
       "      <td>sabzi mandi railway station near by metro station</td>\n",
       "      <td>Pratap Nagar Metro Station</td>\n",
       "      <td>Partap Nagar</td>\n",
       "      <td>2.000</td>\n",
       "      <td>0.609</td>\n",
       "      <td>0.333</td>\n",
       "      <td>0.416</td>\n",
       "      <td>0.715</td>\n",
       "      <td>0.741</td>\n",
       "      <td>0</td>\n",
       "      <td>0.333</td>\n",
       "      <td>0.227</td>\n",
       "      <td>Partap Nagar</td>\n",
       "    </tr>\n",
       "    <tr>\n",
       "      <th>1347</th>\n",
       "      <td>who does bradley cooper play in the a team</td>\n",
       "      <td>Templeton \"Face\" Peck</td>\n",
       "      <td>faceman \\\" peck</td>\n",
       "      <td>2.000</td>\n",
       "      <td>0.756</td>\n",
       "      <td>0.400</td>\n",
       "      <td>0.666</td>\n",
       "      <td>0.600</td>\n",
       "      <td>0.632</td>\n",
       "      <td>0</td>\n",
       "      <td>0.400</td>\n",
       "      <td>0.457</td>\n",
       "      <td>faceman \" peck</td>\n",
       "    </tr>\n",
       "    <tr>\n",
       "      <th>1357</th>\n",
       "      <td>who is the only u s president to hold a phd</td>\n",
       "      <td>Woodrow Wilson</td>\n",
       "      <td>Thomas Woodrow Wilson</td>\n",
       "      <td>2.000</td>\n",
       "      <td>0.828</td>\n",
       "      <td>0.800</td>\n",
       "      <td>0.854</td>\n",
       "      <td>0.924</td>\n",
       "      <td>0.931</td>\n",
       "      <td>0</td>\n",
       "      <td>0.800</td>\n",
       "      <td>0.647</td>\n",
       "      <td>Thomas Woodrow Wilson</td>\n",
       "    </tr>\n",
       "    <tr>\n",
       "      <th>1674</th>\n",
       "      <td>worst case time complexity for insertion in bst</td>\n",
       "      <td>O(n)</td>\n",
       "      <td>o( n )</td>\n",
       "      <td>2.000</td>\n",
       "      <td>0.960</td>\n",
       "      <td>0.000</td>\n",
       "      <td>1.000</td>\n",
       "      <td>0.810</td>\n",
       "      <td>0.817</td>\n",
       "      <td>0</td>\n",
       "      <td>1.000</td>\n",
       "      <td>0.992</td>\n",
       "      <td>o( n )</td>\n",
       "    </tr>\n",
       "    <tr>\n",
       "      <th>1675</th>\n",
       "      <td>worst case time complexity for insertion in bst</td>\n",
       "      <td>O(n)</td>\n",
       "      <td>O</td>\n",
       "      <td>2.000</td>\n",
       "      <td>0.857</td>\n",
       "      <td>0.000</td>\n",
       "      <td>0.642</td>\n",
       "      <td>0.753</td>\n",
       "      <td>0.756</td>\n",
       "      <td>0</td>\n",
       "      <td>0.667</td>\n",
       "      <td>0.385</td>\n",
       "      <td>O</td>\n",
       "    </tr>\n",
       "    <tr>\n",
       "      <th>1677</th>\n",
       "      <td>worst case time complexity for insertion in bst</td>\n",
       "      <td>O(n)</td>\n",
       "      <td>O(log n)</td>\n",
       "      <td>2.000</td>\n",
       "      <td>0.746</td>\n",
       "      <td>0.000</td>\n",
       "      <td>0.884</td>\n",
       "      <td>0.745</td>\n",
       "      <td>0.728</td>\n",
       "      <td>0</td>\n",
       "      <td>0.800</td>\n",
       "      <td>0.765</td>\n",
       "      <td>O(log n)</td>\n",
       "    </tr>\n",
       "    <tr>\n",
       "      <th>1849</th>\n",
       "      <td>who has coached the most afl/vfl games</td>\n",
       "      <td>Mick Malthouse</td>\n",
       "      <td>michael malthouse</td>\n",
       "      <td>2.000</td>\n",
       "      <td>0.878</td>\n",
       "      <td>0.500</td>\n",
       "      <td>0.832</td>\n",
       "      <td>0.778</td>\n",
       "      <td>0.814</td>\n",
       "      <td>0</td>\n",
       "      <td>0.500</td>\n",
       "      <td>0.250</td>\n",
       "      <td>michael malthouse</td>\n",
       "    </tr>\n",
       "    <tr>\n",
       "      <th>1868</th>\n",
       "      <td>where did the grimm brothers get their stories</td>\n",
       "      <td>German folktales</td>\n",
       "      <td>German</td>\n",
       "      <td>1.000</td>\n",
       "      <td>0.575</td>\n",
       "      <td>0.667</td>\n",
       "      <td>0.572</td>\n",
       "      <td>0.687</td>\n",
       "      <td>0.700</td>\n",
       "      <td>0</td>\n",
       "      <td>0.667</td>\n",
       "      <td>0.455</td>\n",
       "      <td>German</td>\n",
       "    </tr>\n",
       "    <tr>\n",
       "      <th>1939</th>\n",
       "      <td>who is the secretary of agriculture 2018 philippines</td>\n",
       "      <td>Emmanuel Piñol</td>\n",
       "      <td>emmanuel piol</td>\n",
       "      <td>2.000</td>\n",
       "      <td>0.940</td>\n",
       "      <td>0.500</td>\n",
       "      <td>0.744</td>\n",
       "      <td>0.520</td>\n",
       "      <td>0.546</td>\n",
       "      <td>0</td>\n",
       "      <td>0.400</td>\n",
       "      <td>0.250</td>\n",
       "      <td>emmanuel piol</td>\n",
       "    </tr>\n",
       "    <tr>\n",
       "      <th>2016</th>\n",
       "      <td>what is the enzyme that helps in atp synthesis</td>\n",
       "      <td>ATP synthase</td>\n",
       "      <td>f - type atpase</td>\n",
       "      <td>1.000</td>\n",
       "      <td>0.671</td>\n",
       "      <td>0.000</td>\n",
       "      <td>0.618</td>\n",
       "      <td>0.208</td>\n",
       "      <td>0.201</td>\n",
       "      <td>0</td>\n",
       "      <td>0.000</td>\n",
       "      <td>0.000</td>\n",
       "      <td>f - type atpase</td>\n",
       "    </tr>\n",
       "    <tr>\n",
       "      <th>2224</th>\n",
       "      <td>according to the general theory of crime self-control must be instilled in t...</td>\n",
       "      <td>ten</td>\n",
       "      <td>before the age of ten</td>\n",
       "      <td>2.000</td>\n",
       "      <td>0.647</td>\n",
       "      <td>0.400</td>\n",
       "      <td>0.618</td>\n",
       "      <td>0.617</td>\n",
       "      <td>0.588</td>\n",
       "      <td>0</td>\n",
       "      <td>0.333</td>\n",
       "      <td>0.109</td>\n",
       "      <td>before the age of ten</td>\n",
       "    </tr>\n",
       "    <tr>\n",
       "      <th>2287</th>\n",
       "      <td>what is the scientific name for marburg virus</td>\n",
       "      <td>Marburg marburgvirus</td>\n",
       "      <td>lake victoria marburgvirus</td>\n",
       "      <td>2.000</td>\n",
       "      <td>0.758</td>\n",
       "      <td>0.400</td>\n",
       "      <td>0.785</td>\n",
       "      <td>0.762</td>\n",
       "      <td>0.727</td>\n",
       "      <td>0</td>\n",
       "      <td>0.400</td>\n",
       "      <td>0.172</td>\n",
       "      <td>lake victoria marburgvirus</td>\n",
       "    </tr>\n",
       "    <tr>\n",
       "      <th>2493</th>\n",
       "      <td>1998 volvo s70 front or rear wheel drive</td>\n",
       "      <td>front-wheel drive</td>\n",
       "      <td>FWD</td>\n",
       "      <td>NaN</td>\n",
       "      <td>0.848</td>\n",
       "      <td>0.000</td>\n",
       "      <td>0.248</td>\n",
       "      <td>0.318</td>\n",
       "      <td>0.344</td>\n",
       "      <td>0</td>\n",
       "      <td>0.000</td>\n",
       "      <td>0.000</td>\n",
       "      <td>FWD</td>\n",
       "    </tr>\n",
       "    <tr>\n",
       "      <th>2532</th>\n",
       "      <td>who played james on little house on the prairie</td>\n",
       "      <td>Jason Bateman</td>\n",
       "      <td>Bateman</td>\n",
       "      <td>1.000</td>\n",
       "      <td>0.779</td>\n",
       "      <td>0.667</td>\n",
       "      <td>0.817</td>\n",
       "      <td>0.902</td>\n",
       "      <td>0.901</td>\n",
       "      <td>0</td>\n",
       "      <td>0.667</td>\n",
       "      <td>0.455</td>\n",
       "      <td>Bateman</td>\n",
       "    </tr>\n",
       "    <tr>\n",
       "      <th>2550</th>\n",
       "      <td>how long have dallas and detroit played on thanksgiving</td>\n",
       "      <td>Since 1978</td>\n",
       "      <td>1978</td>\n",
       "      <td>1.000</td>\n",
       "      <td>0.868</td>\n",
       "      <td>0.667</td>\n",
       "      <td>0.711</td>\n",
       "      <td>0.850</td>\n",
       "      <td>0.843</td>\n",
       "      <td>0</td>\n",
       "      <td>0.667</td>\n",
       "      <td>0.455</td>\n",
       "      <td>1978</td>\n",
       "    </tr>\n",
       "    <tr>\n",
       "      <th>2669</th>\n",
       "      <td>where is area code 339 located in us</td>\n",
       "      <td>Boston suburbs</td>\n",
       "      <td>Boston</td>\n",
       "      <td>2.000</td>\n",
       "      <td>0.608</td>\n",
       "      <td>0.667</td>\n",
       "      <td>0.715</td>\n",
       "      <td>0.703</td>\n",
       "      <td>0.671</td>\n",
       "      <td>0</td>\n",
       "      <td>0.667</td>\n",
       "      <td>0.455</td>\n",
       "      <td>Boston</td>\n",
       "    </tr>\n",
       "    <tr>\n",
       "      <th>2739</th>\n",
       "      <td>what is the state tree of new york</td>\n",
       "      <td>Sugar maple</td>\n",
       "      <td>The sycamore</td>\n",
       "      <td>2.000</td>\n",
       "      <td>0.618</td>\n",
       "      <td>0.000</td>\n",
       "      <td>0.301</td>\n",
       "      <td>0.195</td>\n",
       "      <td>0.214</td>\n",
       "      <td>0</td>\n",
       "      <td>0.000</td>\n",
       "      <td>0.000</td>\n",
       "      <td>The sycamore</td>\n",
       "    </tr>\n",
       "    <tr>\n",
       "      <th>2775</th>\n",
       "      <td>how many people died from the spanish flu</td>\n",
       "      <td>50 to 100Â million</td>\n",
       "      <td>50\\\\u2013100 million</td>\n",
       "      <td>2.000</td>\n",
       "      <td>0.836</td>\n",
       "      <td>0.333</td>\n",
       "      <td>0.518</td>\n",
       "      <td>0.793</td>\n",
       "      <td>0.807</td>\n",
       "      <td>0</td>\n",
       "      <td>0.571</td>\n",
       "      <td>0.227</td>\n",
       "      <td>50–100 million</td>\n",
       "    </tr>\n",
       "    <tr>\n",
       "      <th>2838</th>\n",
       "      <td>what does it mean to cross over the rainbow bridge</td>\n",
       "      <td>Heaven</td>\n",
       "      <td>to heaven</td>\n",
       "      <td>2.000</td>\n",
       "      <td>0.891</td>\n",
       "      <td>0.667</td>\n",
       "      <td>0.811</td>\n",
       "      <td>0.582</td>\n",
       "      <td>0.621</td>\n",
       "      <td>0</td>\n",
       "      <td>0.667</td>\n",
       "      <td>0.263</td>\n",
       "      <td>to heaven</td>\n",
       "    </tr>\n",
       "    <tr>\n",
       "      <th>2881</th>\n",
       "      <td>who discovered the source of the congo river</td>\n",
       "      <td>Portuguese explorer Diogo Cão</td>\n",
       "      <td>diogo co</td>\n",
       "      <td>2.000</td>\n",
       "      <td>0.567</td>\n",
       "      <td>0.333</td>\n",
       "      <td>0.633</td>\n",
       "      <td>0.453</td>\n",
       "      <td>0.426</td>\n",
       "      <td>0</td>\n",
       "      <td>0.286</td>\n",
       "      <td>0.227</td>\n",
       "      <td>diogo co</td>\n",
       "    </tr>\n",
       "    <tr>\n",
       "      <th>2907</th>\n",
       "      <td>who was indias president when it was first nuclear test were conducted</td>\n",
       "      <td>Dr. Abdul Kalam</td>\n",
       "      <td>Dr.Abdul Kalam</td>\n",
       "      <td>2.000</td>\n",
       "      <td>0.964</td>\n",
       "      <td>0.400</td>\n",
       "      <td>1.000</td>\n",
       "      <td>0.926</td>\n",
       "      <td>0.952</td>\n",
       "      <td>0</td>\n",
       "      <td>1.000</td>\n",
       "      <td>0.238</td>\n",
       "      <td>Dr.Abdul Kalam</td>\n",
       "    </tr>\n",
       "    <tr>\n",
       "      <th>3035</th>\n",
       "      <td>what is the crocodile called in punch and judy</td>\n",
       "      <td>The Crocodile</td>\n",
       "      <td>a hungry crocodile</td>\n",
       "      <td>2.000</td>\n",
       "      <td>0.615</td>\n",
       "      <td>0.667</td>\n",
       "      <td>0.728</td>\n",
       "      <td>0.779</td>\n",
       "      <td>0.776</td>\n",
       "      <td>0</td>\n",
       "      <td>0.400</td>\n",
       "      <td>0.172</td>\n",
       "      <td>a hungry crocodile</td>\n",
       "    </tr>\n",
       "    <tr>\n",
       "      <th>3138</th>\n",
       "      <td>who played the title role in killing eve</td>\n",
       "      <td>Sandra Oh</td>\n",
       "      <td>Sandra Miju Oh</td>\n",
       "      <td>2.000</td>\n",
       "      <td>0.840</td>\n",
       "      <td>0.800</td>\n",
       "      <td>0.684</td>\n",
       "      <td>0.795</td>\n",
       "      <td>0.782</td>\n",
       "      <td>0</td>\n",
       "      <td>0.800</td>\n",
       "      <td>0.345</td>\n",
       "      <td>Sandra Miju Oh</td>\n",
       "    </tr>\n",
       "    <tr>\n",
       "      <th>3147</th>\n",
       "      <td>what is the sign for distance in physics</td>\n",
       "      <td>meter</td>\n",
       "      <td>metre</td>\n",
       "      <td>2.000</td>\n",
       "      <td>0.961</td>\n",
       "      <td>0.000</td>\n",
       "      <td>0.746</td>\n",
       "      <td>0.923</td>\n",
       "      <td>0.930</td>\n",
       "      <td>0</td>\n",
       "      <td>0.000</td>\n",
       "      <td>0.000</td>\n",
       "      <td>metre</td>\n",
       "    </tr>\n",
       "    <tr>\n",
       "      <th>3284</th>\n",
       "      <td>how do you know what cherokee clan you are</td>\n",
       "      <td>through the maternal line</td>\n",
       "      <td>the mother's</td>\n",
       "      <td>2.000</td>\n",
       "      <td>0.550</td>\n",
       "      <td>0.000</td>\n",
       "      <td>0.513</td>\n",
       "      <td>0.578</td>\n",
       "      <td>0.546</td>\n",
       "      <td>0</td>\n",
       "      <td>0.286</td>\n",
       "      <td>0.161</td>\n",
       "      <td>the mother's</td>\n",
       "    </tr>\n",
       "    <tr>\n",
       "      <th>3447</th>\n",
       "      <td>el salvador's archbishop murdered as he celebrates mass</td>\n",
       "      <td>Óscar Arnulfo Romero y Galdámez</td>\n",
       "      <td>scar arnulfo romero</td>\n",
       "      <td>1.000</td>\n",
       "      <td>0.787</td>\n",
       "      <td>0.500</td>\n",
       "      <td>0.705</td>\n",
       "      <td>0.476</td>\n",
       "      <td>0.421</td>\n",
       "      <td>0</td>\n",
       "      <td>0.667</td>\n",
       "      <td>0.586</td>\n",
       "      <td>scar arnulfo romero</td>\n",
       "    </tr>\n",
       "    <tr>\n",
       "      <th>3448</th>\n",
       "      <td>el salvador's archbishop murdered as he celebrates mass</td>\n",
       "      <td>Óscar Arnulfo Romero y Galdámez</td>\n",
       "      <td>scar Romero</td>\n",
       "      <td>1.000</td>\n",
       "      <td>0.782</td>\n",
       "      <td>0.286</td>\n",
       "      <td>0.318</td>\n",
       "      <td>0.551</td>\n",
       "      <td>0.553</td>\n",
       "      <td>0</td>\n",
       "      <td>0.500</td>\n",
       "      <td>0.217</td>\n",
       "      <td>scar Romero</td>\n",
       "    </tr>\n",
       "    <tr>\n",
       "      <th>3568</th>\n",
       "      <td>slip ring of an induction motor is usually made up of</td>\n",
       "      <td>graphite or metal</td>\n",
       "      <td>a stationary graphite or metal contact</td>\n",
       "      <td>2.000</td>\n",
       "      <td>0.738</td>\n",
       "      <td>0.750</td>\n",
       "      <td>0.803</td>\n",
       "      <td>0.773</td>\n",
       "      <td>0.727</td>\n",
       "      <td>0</td>\n",
       "      <td>0.667</td>\n",
       "      <td>0.517</td>\n",
       "      <td>a stationary graphite or metal contact</td>\n",
       "    </tr>\n",
       "    <tr>\n",
       "      <th>3573</th>\n",
       "      <td>what category was hurricane matthew when it made landfall in florida</td>\n",
       "      <td>Category 3</td>\n",
       "      <td>3</td>\n",
       "      <td>2.000</td>\n",
       "      <td>0.863</td>\n",
       "      <td>0.667</td>\n",
       "      <td>0.682</td>\n",
       "      <td>0.744</td>\n",
       "      <td>0.724</td>\n",
       "      <td>0</td>\n",
       "      <td>0.667</td>\n",
       "      <td>0.455</td>\n",
       "      <td>3</td>\n",
       "    </tr>\n",
       "    <tr>\n",
       "      <th>3630</th>\n",
       "      <td>who claimed the mississippi river valley for france</td>\n",
       "      <td>Robert de La Salle</td>\n",
       "      <td>la salle</td>\n",
       "      <td>1.000</td>\n",
       "      <td>0.738</td>\n",
       "      <td>0.667</td>\n",
       "      <td>0.759</td>\n",
       "      <td>0.230</td>\n",
       "      <td>0.245</td>\n",
       "      <td>0</td>\n",
       "      <td>0.667</td>\n",
       "      <td>0.852</td>\n",
       "      <td>la salle</td>\n",
       "    </tr>\n",
       "  </tbody>\n",
       "</table>\n",
       "</div>"
      ],
      "text/plain": [
       "                                                                             question  \\\n",
       "22                                              how many players can an nfl team have   \n",
       "99                               comprehensive written version of the jewish oral law   \n",
       "276                               when was the last time dallas went to the superbowl   \n",
       "437                      how many games do you need to play to get a stanley cup ring   \n",
       "438                      how many games do you need to play to get a stanley cup ring   \n",
       "524                                       where did the pilgrims land in the americas   \n",
       "683                                 sabzi mandi railway station near by metro station   \n",
       "1347                                       who does bradley cooper play in the a team   \n",
       "1357                                      who is the only u s president to hold a phd   \n",
       "1674                                  worst case time complexity for insertion in bst   \n",
       "1675                                  worst case time complexity for insertion in bst   \n",
       "1677                                  worst case time complexity for insertion in bst   \n",
       "1849                                           who has coached the most afl/vfl games   \n",
       "1868                                   where did the grimm brothers get their stories   \n",
       "1939                             who is the secretary of agriculture 2018 philippines   \n",
       "2016                                   what is the enzyme that helps in atp synthesis   \n",
       "2224  according to the general theory of crime self-control must be instilled in t...   \n",
       "2287                                    what is the scientific name for marburg virus   \n",
       "2493                                         1998 volvo s70 front or rear wheel drive   \n",
       "2532                                  who played james on little house on the prairie   \n",
       "2550                          how long have dallas and detroit played on thanksgiving   \n",
       "2669                                             where is area code 339 located in us   \n",
       "2739                                               what is the state tree of new york   \n",
       "2775                                        how many people died from the spanish flu   \n",
       "2838                               what does it mean to cross over the rainbow bridge   \n",
       "2881                                     who discovered the source of the congo river   \n",
       "2907           who was indias president when it was first nuclear test were conducted   \n",
       "3035                                   what is the crocodile called in punch and judy   \n",
       "3138                                         who played the title role in killing eve   \n",
       "3147                                         what is the sign for distance in physics   \n",
       "3284                                       how do you know what cherokee clan you are   \n",
       "3447                          el salvador's archbishop murdered as he celebrates mass   \n",
       "3448                          el salvador's archbishop murdered as he celebrates mass   \n",
       "3568                            slip ring of an induction motor is usually made up of   \n",
       "3573             what category was hurricane matthew when it made landfall in florida   \n",
       "3630                              who claimed the mississippi river valley for france   \n",
       "\n",
       "                              answer1                                 answer2  \\\n",
       "22              53-member main roster                         a maximum of 53   \n",
       "99                         Oral Torah                             the Mishnah   \n",
       "276                              1995                              1993, 1995   \n",
       "437                     best-of-seven                       best - of - seven   \n",
       "438                     best-of-seven               four - of - seven - games   \n",
       "524           Plymouth, Massachusetts                         Plymouth Colony   \n",
       "683        Pratap Nagar Metro Station                            Partap Nagar   \n",
       "1347            Templeton \"Face\" Peck                         faceman \\\" peck   \n",
       "1357                   Woodrow Wilson                   Thomas Woodrow Wilson   \n",
       "1674                             O(n)                                  o( n )   \n",
       "1675                             O(n)                                       O   \n",
       "1677                             O(n)                                O(log n)   \n",
       "1849                   Mick Malthouse                       michael malthouse   \n",
       "1868                 German folktales                                  German   \n",
       "1939                   Emmanuel Piñol                           emmanuel piol   \n",
       "2016                     ATP synthase                         f - type atpase   \n",
       "2224                              ten                   before the age of ten   \n",
       "2287             Marburg marburgvirus              lake victoria marburgvirus   \n",
       "2493                front-wheel drive                                     FWD   \n",
       "2532                    Jason Bateman                                 Bateman   \n",
       "2550                       Since 1978                                    1978   \n",
       "2669                   Boston suburbs                                  Boston   \n",
       "2739                      Sugar maple                            The sycamore   \n",
       "2775               50 to 100Â million                    50\\\\u2013100 million   \n",
       "2838                           Heaven                               to heaven   \n",
       "2881    Portuguese explorer Diogo Cão                                diogo co   \n",
       "2907                  Dr. Abdul Kalam                          Dr.Abdul Kalam   \n",
       "3035                    The Crocodile                      a hungry crocodile   \n",
       "3138                        Sandra Oh                          Sandra Miju Oh   \n",
       "3147                            meter                                   metre   \n",
       "3284        through the maternal line                            the mother's   \n",
       "3447  Óscar Arnulfo Romero y Galdámez                     scar arnulfo romero   \n",
       "3448  Óscar Arnulfo Romero y Galdámez                             scar Romero   \n",
       "3568                graphite or metal  a stationary graphite or metal contact   \n",
       "3573                       Category 3                                       3   \n",
       "3630               Robert de La Salle                                la salle   \n",
       "\n",
       "      label   sas    f1  bertvanilla  berttrained  bi_encoder  bleu  rouge_L  \\\n",
       "22    2.000 0.781 0.000        0.423        0.751       0.777     0    0.250   \n",
       "99    2.000 0.678 0.000        0.286        0.413       0.410     0    0.000   \n",
       "276   0.000 0.558 0.667        0.830        0.793       0.802     0    0.667   \n",
       "437   2.000 0.965 0.000        1.000        0.926       0.941     0    1.000   \n",
       "438   2.000 0.608 0.000        0.786        0.634       0.635     0    0.571   \n",
       "524   2.000 0.637 0.500        0.603        0.729       0.701     0    0.500   \n",
       "683   2.000 0.609 0.333        0.416        0.715       0.741     0    0.333   \n",
       "1347  2.000 0.756 0.400        0.666        0.600       0.632     0    0.400   \n",
       "1357  2.000 0.828 0.800        0.854        0.924       0.931     0    0.800   \n",
       "1674  2.000 0.960 0.000        1.000        0.810       0.817     0    1.000   \n",
       "1675  2.000 0.857 0.000        0.642        0.753       0.756     0    0.667   \n",
       "1677  2.000 0.746 0.000        0.884        0.745       0.728     0    0.800   \n",
       "1849  2.000 0.878 0.500        0.832        0.778       0.814     0    0.500   \n",
       "1868  1.000 0.575 0.667        0.572        0.687       0.700     0    0.667   \n",
       "1939  2.000 0.940 0.500        0.744        0.520       0.546     0    0.400   \n",
       "2016  1.000 0.671 0.000        0.618        0.208       0.201     0    0.000   \n",
       "2224  2.000 0.647 0.400        0.618        0.617       0.588     0    0.333   \n",
       "2287  2.000 0.758 0.400        0.785        0.762       0.727     0    0.400   \n",
       "2493    NaN 0.848 0.000        0.248        0.318       0.344     0    0.000   \n",
       "2532  1.000 0.779 0.667        0.817        0.902       0.901     0    0.667   \n",
       "2550  1.000 0.868 0.667        0.711        0.850       0.843     0    0.667   \n",
       "2669  2.000 0.608 0.667        0.715        0.703       0.671     0    0.667   \n",
       "2739  2.000 0.618 0.000        0.301        0.195       0.214     0    0.000   \n",
       "2775  2.000 0.836 0.333        0.518        0.793       0.807     0    0.571   \n",
       "2838  2.000 0.891 0.667        0.811        0.582       0.621     0    0.667   \n",
       "2881  2.000 0.567 0.333        0.633        0.453       0.426     0    0.286   \n",
       "2907  2.000 0.964 0.400        1.000        0.926       0.952     0    1.000   \n",
       "3035  2.000 0.615 0.667        0.728        0.779       0.776     0    0.400   \n",
       "3138  2.000 0.840 0.800        0.684        0.795       0.782     0    0.800   \n",
       "3147  2.000 0.961 0.000        0.746        0.923       0.930     0    0.000   \n",
       "3284  2.000 0.550 0.000        0.513        0.578       0.546     0    0.286   \n",
       "3447  1.000 0.787 0.500        0.705        0.476       0.421     0    0.667   \n",
       "3448  1.000 0.782 0.286        0.318        0.551       0.553     0    0.500   \n",
       "3568  2.000 0.738 0.750        0.803        0.773       0.727     0    0.667   \n",
       "3573  2.000 0.863 0.667        0.682        0.744       0.724     0    0.667   \n",
       "3630  1.000 0.738 0.667        0.759        0.230       0.245     0    0.667   \n",
       "\n",
       "      meteor                    answer_encoded_twice  \n",
       "22     0.000                         a maximum of 53  \n",
       "99     0.000                             the Mishnah  \n",
       "276    0.179                              1993, 1995  \n",
       "437    0.000                       best - of - seven  \n",
       "438    0.000               four - of - seven - games  \n",
       "524    0.238                         Plymouth Colony  \n",
       "683    0.227                            Partap Nagar  \n",
       "1347   0.457                          faceman \" peck  \n",
       "1357   0.647                   Thomas Woodrow Wilson  \n",
       "1674   0.992                                  o( n )  \n",
       "1675   0.385                                       O  \n",
       "1677   0.765                                O(log n)  \n",
       "1849   0.250                       michael malthouse  \n",
       "1868   0.455                                  German  \n",
       "1939   0.250                           emmanuel piol  \n",
       "2016   0.000                         f - type atpase  \n",
       "2224   0.109                   before the age of ten  \n",
       "2287   0.172              lake victoria marburgvirus  \n",
       "2493   0.000                                     FWD  \n",
       "2532   0.455                                 Bateman  \n",
       "2550   0.455                                    1978  \n",
       "2669   0.455                                  Boston  \n",
       "2739   0.000                            The sycamore  \n",
       "2775   0.227                          50–100 million  \n",
       "2838   0.263                               to heaven  \n",
       "2881   0.227                                diogo co  \n",
       "2907   0.238                          Dr.Abdul Kalam  \n",
       "3035   0.172                      a hungry crocodile  \n",
       "3138   0.345                          Sandra Miju Oh  \n",
       "3147   0.000                                   metre  \n",
       "3284   0.161                            the mother's  \n",
       "3447   0.586                     scar arnulfo romero  \n",
       "3448   0.217                             scar Romero  \n",
       "3568   0.517  a stationary graphite or metal contact  \n",
       "3573   0.455                                       3  \n",
       "3630   0.852                                la salle  "
      ]
     },
     "execution_count": 44,
     "metadata": {},
     "output_type": "execute_result"
    }
   ],
   "source": [
    "filtered_errors_high.index"
   ]
  },
  {
   "cell_type": "code",
   "execution_count": 50,
   "metadata": {
    "ExecuteTime": {
     "end_time": "2021-11-02T23:08:44.761550Z",
     "start_time": "2021-11-02T23:08:44.721720Z"
    }
   },
   "outputs": [
    {
     "data": {
      "text/plain": [
       "(3572, 13)"
      ]
     },
     "execution_count": 50,
     "metadata": {},
     "output_type": "execute_result"
    }
   ],
   "source": [
    "filtered_errors_high.combine_first(nq_open_aug).shape"
   ]
  },
  {
   "cell_type": "markdown",
   "metadata": {},
   "source": [
    "## Re-evaluation"
   ]
  },
  {
   "cell_type": "code",
   "execution_count": 32,
   "metadata": {
    "ExecuteTime": {
     "end_time": "2021-11-03T12:33:16.106180Z",
     "start_time": "2021-11-03T12:33:15.988126Z"
    }
   },
   "outputs": [],
   "source": [
    "# BERTScore Trained\n",
    "from bert_score import score\n",
    "\n",
    "model_type_trained = 'T-Systems-onsite/cross-en-de-roberta-sentence-transformer'\n",
    "nq_open_aug = pd.read_csv(\n",
    "    'semantic-answer-similarity/data/errors/nq_open_corrected_and_augmented_relabelled.csv',\n",
    "    index_col=0)"
   ]
  },
  {
   "cell_type": "code",
   "execution_count": 34,
   "metadata": {
    "ExecuteTime": {
     "end_time": "2021-11-03T12:33:55.934585Z",
     "start_time": "2021-11-03T12:33:55.920112Z"
    }
   },
   "outputs": [
    {
     "data": {
      "text/plain": [
       "Index(['question', 'answer1', 'answer2', 'label', 'sas', 'f1', 'bertvanilla',\n",
       "       'berttrained', 'bi_encoder', 'bleu', 'rouge_L', 'meteor',\n",
       "       'answer_encoded_twice'],\n",
       "      dtype='object')"
      ]
     },
     "execution_count": 34,
     "metadata": {},
     "output_type": "execute_result"
    }
   ],
   "source": [
    "nq_open_aug.columns"
   ]
  },
  {
   "cell_type": "code",
   "execution_count": 35,
   "metadata": {
    "ExecuteTime": {
     "end_time": "2021-11-03T12:34:33.194354Z",
     "start_time": "2021-11-03T12:34:33.183383Z"
    }
   },
   "outputs": [],
   "source": [
    "nq_open_aug['answer2'] = nq_open_aug['answer_encoded_twice']"
   ]
  },
  {
   "cell_type": "code",
   "execution_count": 36,
   "metadata": {
    "ExecuteTime": {
     "end_time": "2021-11-03T12:34:53.252548Z",
     "start_time": "2021-11-03T12:34:53.239855Z"
    }
   },
   "outputs": [],
   "source": [
    "nq_open_aug_new = nq_open_aug[['answer1', 'answer2', 'label']]"
   ]
  },
  {
   "cell_type": "code",
   "execution_count": 37,
   "metadata": {
    "ExecuteTime": {
     "end_time": "2021-11-03T12:38:00.556204Z",
     "start_time": "2021-11-03T12:36:06.904450Z"
    }
   },
   "outputs": [],
   "source": [
    "_, _, bertscore = score(list(nq_open_aug_new.answer1.values),\n",
    "                        list(nq_open_aug_new.answer2.values),\n",
    "                        model_type=model_type_trained,\n",
    "                        num_layers=12)\n",
    "nq_open_aug_new['berttrained'] = bertscore.cpu().numpy()"
   ]
  },
  {
   "cell_type": "code",
   "execution_count": 39,
   "metadata": {
    "ExecuteTime": {
     "end_time": "2021-11-03T12:42:13.733945Z",
     "start_time": "2021-11-03T12:41:49.830260Z"
    }
   },
   "outputs": [
    {
     "name": "stderr",
     "output_type": "stream",
     "text": [
      "Some weights of the model checkpoint at bert-base-uncased were not used when initializing BertModel: ['cls.predictions.decoder.weight', 'cls.predictions.transform.LayerNorm.weight', 'cls.predictions.transform.dense.weight', 'cls.seq_relationship.weight', 'cls.predictions.transform.LayerNorm.bias', 'cls.seq_relationship.bias', 'cls.predictions.bias', 'cls.predictions.transform.dense.bias']\n",
      "- This IS expected if you are initializing BertModel from the checkpoint of a model trained on another task or with another architecture (e.g. initializing a BertForSequenceClassification model from a BertForPreTraining model).\n",
      "- This IS NOT expected if you are initializing BertModel from the checkpoint of a model that you expect to be exactly identical (initializing a BertForSequenceClassification model from a BertForSequenceClassification model).\n"
     ]
    }
   ],
   "source": [
    "_, _, bertscore = score(list(nq_open_aug_new.answer1.values),\n",
    "                        list(nq_open_aug_new.answer2.values),\n",
    "                        model_type='bert-base-uncased',\n",
    "                        num_layers=2)\n",
    "nq_open_aug_new['bertvanilla'] = bertscore.cpu().numpy()"
   ]
  },
  {
   "cell_type": "code",
   "execution_count": 41,
   "metadata": {
    "ExecuteTime": {
     "end_time": "2021-11-03T12:43:37.148415Z",
     "start_time": "2021-11-03T12:43:22.306590Z"
    }
   },
   "outputs": [],
   "source": [
    "from sentence_transformers import CrossEncoder, SentenceTransformer, util\n",
    "english_model_cross_encoder = CrossEncoder('cross-encoder/stsb-roberta-large')\n"
   ]
  },
  {
   "cell_type": "code",
   "execution_count": 44,
   "metadata": {
    "ExecuteTime": {
     "end_time": "2021-11-03T13:15:29.131140Z",
     "start_time": "2021-11-03T13:15:29.126822Z"
    }
   },
   "outputs": [],
   "source": [
    "series_nq_open = pd.Series(\n",
    "    [english_model_cross_encoder.predict([\n",
    "        str(nq_open_aug_new.answer1.values[i]),\n",
    "        str(nq_open_aug_new.answer2.values[i])],\n",
    "        show_progress_bar=False)\n",
    "     for i in range(len(nq_open_aug_new))])\n"
   ]
  },
  {
   "cell_type": "code",
   "execution_count": 60,
   "metadata": {
    "ExecuteTime": {
     "end_time": "2021-11-03T13:27:28.749413Z",
     "start_time": "2021-11-03T13:27:28.741643Z"
    }
   },
   "outputs": [],
   "source": [
    "series_nq_open.index = nq_open_aug_new.index"
   ]
  },
  {
   "cell_type": "code",
   "execution_count": 61,
   "metadata": {
    "ExecuteTime": {
     "end_time": "2021-11-03T13:27:37.031511Z",
     "start_time": "2021-11-03T13:27:37.024680Z"
    }
   },
   "outputs": [],
   "source": [
    "nq_open_aug_new['sas'] = series_nq_open"
   ]
  },
  {
   "cell_type": "code",
   "execution_count": 49,
   "metadata": {
    "ExecuteTime": {
     "end_time": "2021-11-03T13:18:13.408225Z",
     "start_time": "2021-11-03T13:18:13.148694Z"
    }
   },
   "outputs": [],
   "source": [
    "nq_open_aug_new['f1'] = nq_open_aug_new.apply(lambda x: compute_f1(x.answer1, x.answer2), axis=1)"
   ]
  },
  {
   "cell_type": "code",
   "execution_count": 65,
   "metadata": {
    "ExecuteTime": {
     "end_time": "2021-11-03T13:37:53.863992Z",
     "start_time": "2021-11-03T13:37:53.857006Z"
    }
   },
   "outputs": [],
   "source": [
    "nq_open_aug_new.reset_index(drop=True, inplace=True)"
   ]
  },
  {
   "cell_type": "code",
   "execution_count": 89,
   "metadata": {
    "ExecuteTime": {
     "end_time": "2021-11-03T16:36:25.660670Z",
     "start_time": "2021-11-03T16:36:25.560166Z"
    }
   },
   "outputs": [],
   "source": [
    "scores_bi_encoder.to_csv('semantic-answer-similarity/data/table/nq_open_table_results_relabelled.csv')"
   ]
  },
  {
   "cell_type": "code",
   "execution_count": 67,
   "metadata": {
    "ExecuteTime": {
     "end_time": "2021-11-03T13:41:14.282714Z",
     "start_time": "2021-11-03T13:41:14.249610Z"
    }
   },
   "outputs": [],
   "source": [
    "\n",
    "BERTTRAINED = 'bert_score_prime'\n",
    "BERT_SCORE = 'bert_score'\n",
    "BERT_UNCASED = 'bert-base-uncased'\n",
    "BIENCODER = 'bi_encoder'\n",
    "SAS = 'sas'\n",
    "F1_SCORE = 'f1'"
   ]
  },
  {
   "cell_type": "code",
   "execution_count": 68,
   "metadata": {
    "ExecuteTime": {
     "end_time": "2021-11-03T13:49:13.964025Z",
     "start_time": "2021-11-03T13:41:27.575674Z"
    }
   },
   "outputs": [
    {
     "name": "stderr",
     "output_type": "stream",
     "text": [
      "No sentence-transformers model found with name /Users/faridamustafazade/.cache/torch/sentence_transformers/T-Systems-onsite_cross-en-de-roberta-sentence-transformer. Creating a new one with MEAN pooling.\n"
     ]
    },
    {
     "data": {
      "application/vnd.jupyter.widget-view+json": {
       "model_id": "88b67b90fe8d4a04bb1a2ffe6dc93edd",
       "version_major": 2,
       "version_minor": 0
      },
      "text/plain": [
       "Batches:   0%|          | 0/112 [00:00<?, ?it/s]"
      ]
     },
     "metadata": {},
     "output_type": "display_data"
    },
    {
     "data": {
      "application/vnd.jupyter.widget-view+json": {
       "model_id": "40df7a1338e14e83ab61f29a1f6fcaf5",
       "version_major": 2,
       "version_minor": 0
      },
      "text/plain": [
       "Batches:   0%|          | 0/112 [00:00<?, ?it/s]"
      ]
     },
     "metadata": {},
     "output_type": "display_data"
    }
   ],
   "source": [
    "model = SentenceTransformer(model_type_trained)\n",
    "for data, name in zip([nq_open_aug_new], ('nq-open')):\n",
    "    scores_bi_encoder = data.copy()\n",
    "    embeddings1 = model.encode(data.answer1, convert_to_tensor=True)\n",
    "    embeddings2 = model.encode(data.answer2, convert_to_tensor=True)\n",
    "    cosine_scores = util.pytorch_cos_sim(embeddings1, embeddings2)\n",
    "\n",
    "    scores_bi_encoder[BIENCODER] = pd.Series()\n",
    "    for i in range(len(data['answer1'])):\n",
    "        scores_bi_encoder[BIENCODER][i] = cosine_scores[i][i].item()\n",
    "\n",
    "    scores_bi_encoder[F1_SCORE] = scores_bi_encoder.apply(lambda x: \n",
    "        compute_f1(str(x.answer1), str(x.answer2)), axis=1)"
   ]
  },
  {
   "cell_type": "code",
   "execution_count": null,
   "metadata": {},
   "outputs": [],
   "source": [
    "english_model_cross_encoder = CrossEncoder('cross-encoder/stsb-roberta-large')\n",
    "## NQ-open\n",
    "series_nq_open_new_relabelled = pd.Series(\n",
    "    [english_model_cross_encoder.predict([\n",
    "        str(nq_open_new_relabelled.answer1.values[i]),\n",
    "        str(nq_open_new_relabelled.answer_encoded_twice.values[i])],\n",
    "        show_progress_bar=False)\n",
    "      for i in range(len(nq_open_new_relabelled))])\n",
    "nq_open_new_relabelled[SAS] = series_nq_open_new_relabelled\n",
    "nq_open_new_relabelled.to_csv(output_dir + 'nq_open_new_relabelled_cross_encoder_sas.csv')"
   ]
  },
  {
   "cell_type": "code",
   "execution_count": 77,
   "metadata": {
    "ExecuteTime": {
     "end_time": "2021-11-03T16:20:07.253382Z",
     "start_time": "2021-11-03T16:19:48.733036Z"
    }
   },
   "outputs": [],
   "source": [
    "\n",
    "model = SentenceTransformer('cross-en-de-roberta-sentence-transformer-2021-10-30_19-42-43/')\n"
   ]
  },
  {
   "cell_type": "code",
   "execution_count": 78,
   "metadata": {
    "ExecuteTime": {
     "end_time": "2021-11-03T16:20:58.610856Z",
     "start_time": "2021-11-03T16:20:58.511650Z"
    }
   },
   "outputs": [],
   "source": [
    "nq_open = pd.read_csv(\n",
    "    'semantic-answer-similarity/data/table/nq_open_table_results_relabelled.csv',\n",
    "    index_col=0)"
   ]
  },
  {
   "cell_type": "code",
   "execution_count": 140,
   "metadata": {
    "ExecuteTime": {
     "end_time": "2021-11-03T18:04:21.584380Z",
     "start_time": "2021-11-03T18:03:07.315871Z"
    }
   },
   "outputs": [
    {
     "data": {
      "application/vnd.jupyter.widget-view+json": {
       "model_id": "fe5574af52914014b485e91c8e3afdce",
       "version_major": 2,
       "version_minor": 0
      },
      "text/plain": [
       "Batches:   0%|          | 0/14 [00:00<?, ?it/s]"
      ]
     },
     "metadata": {},
     "output_type": "display_data"
    },
    {
     "data": {
      "application/vnd.jupyter.widget-view+json": {
       "model_id": "e9e0170dd40a43efb9307c7c8a8a8350",
       "version_major": 2,
       "version_minor": 0
      },
      "text/plain": [
       "Batches:   0%|          | 0/14 [00:00<?, ?it/s]"
      ]
     },
     "metadata": {},
     "output_type": "display_data"
    }
   ],
   "source": [
    "for data, name in zip([german_quad], ('german_quad')):\n",
    "    scores_bi_encoder = data.reset_index(drop=True).copy()\n",
    "    embeddings1 = model.encode(list(map(str, data.answer1.values)), convert_to_tensor=True)\n",
    "    embeddings2 = model.encode(list(map(str, data.answer2.values)), convert_to_tensor=True)\n",
    "    cosine_scores = util.pytorch_cos_sim(embeddings1, embeddings2)\n",
    "\n",
    "    scores_bi_encoder['new_bi_encoder'] = pd.Series()\n",
    "    for i in range(len(data['answer1'])):\n",
    "        scores_bi_encoder['new_bi_encoder'][i] = cosine_scores[i][i].item()"
   ]
  },
  {
   "cell_type": "code",
   "execution_count": 142,
   "metadata": {
    "ExecuteTime": {
     "end_time": "2021-11-03T18:05:28.918495Z",
     "start_time": "2021-11-03T18:05:28.886495Z"
    }
   },
   "outputs": [],
   "source": [
    "scores_bi_encoder.to_csv('semantic-answer-similarity/data/table/german_quad_table_results_1.csv')"
   ]
  },
  {
   "cell_type": "code",
   "execution_count": 92,
   "metadata": {
    "ExecuteTime": {
     "end_time": "2021-11-03T16:52:15.739970Z",
     "start_time": "2021-11-03T16:52:15.644267Z"
    }
   },
   "outputs": [],
   "source": [
    "scores_bi_encoder.to_csv('semantic-answer-similarity/data/table/squad_table_results_1.csv')"
   ]
  },
  {
   "cell_type": "code",
   "execution_count": 96,
   "metadata": {
    "ExecuteTime": {
     "end_time": "2021-11-03T17:07:24.015955Z",
     "start_time": "2021-11-03T17:05:29.618080Z"
    }
   },
   "outputs": [],
   "source": [
    "_, _, bertscore = score(list(nq_open.answer1.values),\n",
    "                        list(nq_open.answer2.values),\n",
    "                        model_type='cross-en-de-roberta-sentence-transformer-2021-10-30_19-42-43',\n",
    "                        num_layers=12)\n",
    "nq_open['new_berttrained'] = bertscore.cpu().numpy()"
   ]
  },
  {
   "cell_type": "code",
   "execution_count": 60,
   "metadata": {
    "ExecuteTime": {
     "end_time": "2021-11-03T13:27:28.749413Z",
     "start_time": "2021-11-03T13:27:28.741643Z"
    }
   },
   "outputs": [],
   "source": [
    "series_nq_open.index = nq_open_aug_new.index"
   ]
  },
  {
   "cell_type": "code",
   "execution_count": 138,
   "metadata": {
    "ExecuteTime": {
     "end_time": "2021-11-03T18:01:06.937067Z",
     "start_time": "2021-11-03T17:59:18.959403Z"
    }
   },
   "outputs": [],
   "source": [
    "_, _, bertscore = score(list(map(str, german_quad.answer1)),\n",
    "                        list(map(str, german_quad.answer2)),\n",
    "                        model_type='cross-en-de-roberta-sentence-transformer-2021-10-30_19-42-43',\n",
    "                        num_layers=12)\n",
    "german_quad['new_berttrained'] = bertscore.cpu().numpy()"
   ]
  },
  {
   "cell_type": "code",
   "execution_count": 135,
   "metadata": {
    "ExecuteTime": {
     "end_time": "2021-11-03T17:40:15.756235Z",
     "start_time": "2021-11-03T17:40:15.669263Z"
    }
   },
   "outputs": [],
   "source": [
    "# nq_open.to_csv('data/table/nq_open_table_results_relabelled_1.csv')"
   ]
  },
  {
   "cell_type": "code",
   "execution_count": 133,
   "metadata": {
    "ExecuteTime": {
     "end_time": "2021-11-03T17:40:03.399323Z",
     "start_time": "2021-11-03T17:40:03.374298Z"
    }
   },
   "outputs": [],
   "source": [
    "nq_open['new_bi_encoder'] = pd.read_csv(\n",
    "    'data/table/nq_open_table_results_relabelled.csv',\n",
    "    index_col=0)['new_bi_encoder']"
   ]
  },
  {
   "cell_type": "code",
   "execution_count": 104,
   "metadata": {
    "ExecuteTime": {
     "end_time": "2021-11-03T17:11:47.879142Z",
     "start_time": "2021-11-03T17:10:26.728180Z"
    }
   },
   "outputs": [],
   "source": [
    "# _, _, bertscore = score(list(squad.answer1.values),\n",
    "#                         list(squad.answer2.values),\n",
    "#                         model_type='cross-en-de-roberta-sentence-transformer-2021-10-30_19-42-43',\n",
    "#                         num_layers=12)\n",
    "# squad['new_berttrained'] = bertscore.cpu().numpy()"
   ]
  },
  {
   "cell_type": "code",
   "execution_count": 101,
   "metadata": {
    "ExecuteTime": {
     "end_time": "2021-11-03T17:09:03.585790Z",
     "start_time": "2021-11-03T17:09:03.544149Z"
    }
   },
   "outputs": [],
   "source": [
    "# nq_open_aug['new_berttrained'] = nq_open['new_berttrained']\n",
    "\n",
    "# squad_new['new_berttrained'] = squad['new_berttrained']"
   ]
  },
  {
   "cell_type": "code",
   "execution_count": 109,
   "metadata": {
    "ExecuteTime": {
     "end_time": "2021-11-03T17:17:12.358176Z",
     "start_time": "2021-11-03T17:17:12.318195Z"
    }
   },
   "outputs": [],
   "source": [
    "# squad_new.to_csv('data/table/squad_table_results_1.csv')\n",
    "\n",
    "# nq_open_aug.to_csv('data/table/nq_open_table_results_relabelled.csv')"
   ]
  },
  {
   "cell_type": "code",
   "execution_count": null,
   "metadata": {},
   "outputs": [],
   "source": []
  }
 ],
 "metadata": {
  "hide_input": false,
  "kernelspec": {
   "display_name": "Python 3 (ipykernel)",
   "language": "python",
   "name": "python3"
  },
  "language_info": {
   "codemirror_mode": {
    "name": "ipython",
    "version": 3
   },
   "file_extension": ".py",
   "mimetype": "text/x-python",
   "name": "python",
   "nbconvert_exporter": "python",
   "pygments_lexer": "ipython3",
   "version": "3.8.11"
  },
  "toc": {
   "base_numbering": 1,
   "nav_menu": {},
   "number_sections": true,
   "sideBar": true,
   "skip_h1_title": false,
   "title_cell": "Table of Contents",
   "title_sidebar": "Contents",
   "toc_cell": false,
   "toc_position": {
    "height": "calc(100% - 180px)",
    "left": "10px",
    "top": "150px",
    "width": "319.1875px"
   },
   "toc_section_display": true,
   "toc_window_display": true
  },
  "varInspector": {
   "cols": {
    "lenName": 16,
    "lenType": 16,
    "lenVar": 40
   },
   "kernels_config": {
    "python": {
     "delete_cmd_postfix": "",
     "delete_cmd_prefix": "del ",
     "library": "var_list.py",
     "varRefreshCmd": "print(var_dic_list())"
    },
    "r": {
     "delete_cmd_postfix": ") ",
     "delete_cmd_prefix": "rm(",
     "library": "var_list.r",
     "varRefreshCmd": "cat(var_dic_list()) "
    }
   },
   "types_to_exclude": [
    "module",
    "function",
    "builtin_function_or_method",
    "instance",
    "_Feature"
   ],
   "window_display": false
  }
 },
 "nbformat": 4,
 "nbformat_minor": 4
}
